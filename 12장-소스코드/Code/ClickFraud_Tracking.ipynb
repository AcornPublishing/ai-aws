{
 "cells": [
  {
   "cell_type": "markdown",
   "metadata": {},
   "source": [
    "## Machine Learning Feedback Loop - Predict Ad Click Conversion through XGBoost\n",
    "\n",
    "\n",
    "1. [Introduction](#Introduction)\n",
    "2. [Preprocessing](#Preprocessing)\n",
    "   1. [Read the dataset from S3](#Read-the-dataset-from-S3)\n",
    "   2. [Prepare data for experiments](#Prepare-data-for-experiments)\n",
    "   3. [Explore Data](#Explore-Data) \n",
    "   4. [Create Features](#Create-Features)\n",
    "3. [Running Experiments](#Running-Experiments)\n",
    "   1. [Create train, validation and test datasets](#Create-train,-validation-and-test-datasets)\n",
    "   2. [Plot Feature Importance](#Plot-Feature-Importance)\n",
    "   3. [Inferences](#Inferences)"
   ]
  },
  {
   "cell_type": "markdown",
   "metadata": {},
   "source": [
    "## Introduction\n",
    "\n",
    "Fraud risk is prevalent in almost every industry, from airlines to retail to financial services. Specifically, the risk is high in online advertising. For companies investing in digital marketing, it is important to contain costs from fraudulent clicks on ads. Online advertising can get cost prohibitive if fraudulent behavior is rampant across online ad channels. In this notebook, we will look at ad click data for mobile apps and predict which clicks will likely yield in app downloads. The outcome from this prediction exercise can enable mobile app developers to efficiently allocate online marketing dollars.\n",
    "\n",
    "We have created synthetic or artificial dataset simulating 2.4 million clicks across 4 days (Monday through Thursday; July 2nd to 5th of 2018).  \n",
    "\n",
    "To get started, let's install pre-requisite python packages"
   ]
  },
  {
   "cell_type": "code",
   "execution_count": 1,
   "metadata": {},
   "outputs": [
    {
     "name": "stdout",
     "output_type": "stream",
     "text": [
      "Collecting pip\n",
      "  Using cached pip-20.1.1-py2.py3-none-any.whl (1.5 MB)\n",
      "Installing collected packages: pip\n",
      "  Attempting uninstall: pip\n",
      "    Found existing installation: pip 20.0.2\n",
      "    Uninstalling pip-20.0.2:\n",
      "      Successfully uninstalled pip-20.0.2\n",
      "Successfully installed pip-20.1.1\n",
      "Collecting pyarrow\n",
      "  Downloading pyarrow-0.17.1-cp36-cp36m-manylinux2014_x86_64.whl (63.8 MB)\n",
      "\u001b[K     |████████████████████████████████| 63.8 MB 78.5 MB/s eta 0:00:01    |▍                               | 696 kB 12.0 MB/s eta 0:00:06     |█████████▌                      | 19.0 MB 12.0 MB/s eta 0:00:04     |██████████▉                     | 21.6 MB 12.0 MB/s eta 0:00:04     |█████████████████████▍          | 42.6 MB 12.0 MB/s eta 0:00:02\n",
      "\u001b[?25hRequirement already satisfied: numpy>=1.14 in /home/ec2-user/anaconda3/envs/mxnet_p36/lib/python3.6/site-packages (from pyarrow) (1.18.1)\n",
      "Installing collected packages: pyarrow\n",
      "Successfully installed pyarrow-0.17.1\n",
      "Requirement already satisfied: joblib in /home/ec2-user/anaconda3/envs/mxnet_p36/lib/python3.6/site-packages (0.14.1)\n",
      "Collecting xgboost==0.90\n",
      "  Downloading xgboost-0.90-py2.py3-none-manylinux1_x86_64.whl (142.8 MB)\n",
      "\u001b[K     |████████████████████████████████| 142.8 MB 14 kB/s s eta 0:00:01\n",
      "\u001b[?25hRequirement already satisfied: scipy in /home/ec2-user/anaconda3/envs/mxnet_p36/lib/python3.6/site-packages (from xgboost==0.90) (1.4.1)\n",
      "Requirement already satisfied: numpy in /home/ec2-user/anaconda3/envs/mxnet_p36/lib/python3.6/site-packages (from xgboost==0.90) (1.18.1)\n",
      "Installing collected packages: xgboost\n",
      "Successfully installed xgboost-0.90\n"
     ]
    }
   ],
   "source": [
    "#Install relevant python packages\n",
    "!pip install --upgrade pip\n",
    "!pip install pyarrow\n",
    "!pip install joblib\n",
    "!pip install xgboost==0.90"
   ]
  },
  {
   "cell_type": "code",
   "execution_count": 2,
   "metadata": {},
   "outputs": [],
   "source": [
    "import boto3\n",
    "import pandas as pd\n",
    "import numpy as np\n",
    "import os\n",
    "import sagemaker\n",
    "from sagemaker.amazon.amazon_estimator import get_image_uri\n",
    "from sagemaker import get_execution_role\n",
    "from sagemaker.predictor import csv_serializer\n",
    "import matplotlib.pyplot as plt\n",
    "#import s3fs\n",
    "import pyarrow.parquet as pq\n",
    "import gc\n",
    "import seaborn as sns\n",
    "import tarfile\n",
    "import joblib\n",
    "import xgboost as xgbst\n",
    "import datetime as dt\n",
    "from sagemaker.model import Model\n",
    "from sklearn.metrics import confusion_matrix\n",
    "from sklearn.metrics import accuracy_score\n",
    "from sklearn.metrics import roc_auc_score\n",
    "from datetime import *"
   ]
  },
  {
   "cell_type": "markdown",
   "metadata": {},
   "source": [
    "## Preprocessing"
   ]
  },
  {
   "cell_type": "markdown",
   "metadata": {},
   "source": [
    "### Read the dataset from S3\n",
    "\n",
    "The ad click data contains the following elements:\n",
    "\n",
    "* ip: ip address of click\n",
    "* app: type of mobile app\n",
    "* device: type of device the click is coming from (e.g., iphone 6 plus, iphone 7)\n",
    "* os: type of operating system the click is coming from\n",
    "* channel: type of channel the click is coming from\n",
    "* click_time: timestamp of click (UTC)\n",
    "* is_downloaded: the target that is to be predicted, indicating the app was downloaded"
   ]
  },
  {
   "cell_type": "code",
   "execution_count": 3,
   "metadata": {},
   "outputs": [],
   "source": [
    "s3_bucket = 'notebook-ch12.junho.her'\n",
    "s3_prefix = 'Click-Fraud'\n",
    "\n",
    "s3_train_prefix = os.path.join(s3_prefix, 'train')\n",
    "s3_val_prefix = os.path.join(s3_prefix, 'val')\n",
    "s3_output_prefix = os.path.join(s3_prefix, 'output')\n",
    "\n",
    "s3_train_fn = 'train_sample.csv.zip'\n",
    "\n",
    "# Location of prepared training and validation datasets on local ec2 instance where SageMaker is running\n",
    "sm_train_loc = 'click_fraud/train/'\n",
    "sm_val_loc = 'click_fraud/val/'"
   ]
  },
  {
   "cell_type": "code",
   "execution_count": 4,
   "metadata": {},
   "outputs": [],
   "source": [
    "!mkdir -p click_fraud/train\n",
    "!mkdir -p click_fraud/val"
   ]
  },
  {
   "cell_type": "code",
   "execution_count": 5,
   "metadata": {},
   "outputs": [],
   "source": [
    "#Read the prepared synthetic dataset from local sagemaker instance\n",
    "\n",
    "file_name = 'ad_track_day'\n",
    "file_path = '../Data'\n",
    "fn_ext = '.csv'\n",
    "num_days = 4\n",
    "dict_of_ad_trk_df = {}\n",
    "\n",
    "\n",
    "for i in range(1, num_days+1):\n",
    "    dict_of_ad_trk_df[file_name+str(i)] = pd.read_csv(file_path + '/' + file_name+str(i)+fn_ext)"
   ]
  },
  {
   "cell_type": "code",
   "execution_count": 6,
   "metadata": {},
   "outputs": [
    {
     "name": "stdout",
     "output_type": "stream",
     "text": [
      "[1, 4, 5, 6, 7, 8, 9, 10, 11, 12, 13, 14, 15, 16, 17, 18, 19, 21, 22, 23, 24, 25, 26, 27, 28, 29, 30, 32, 33, 34, 35, 36, 37, 38, 39, 40, 41, 42, 43, 44, 45, 47, 49, 50, 51, 53, 54, 55, 56, 57, 59, 60, 61, 62, 63, 64, 65, 66, 68, 69, 70, 71, 72, 73, 74, 75, 77, 78, 79, 80, 81, 82, 83, 84, 86, 87, 88, 89, 90, 91, 92, 93, 94, 95, 97, 98, 100, 101, 102, 103, 105, 107, 108, 109, 110, 111, 112, 113, 114, 115, 116, 117, 118, 119, 120, 121, 122, 124, 125, 126, 128, 129, 130, 131, 132, 133, 134, 135, 136, 137, 138, 139, 140, 141, 142, 145, 146, 147, 148, 149, 150, 151, 152, 153, 154, 155, 156, 157, 158, 160, 161, 162, 163, 164, 166, 167]\n"
     ]
    }
   ],
   "source": [
    "dict_of_ad_trk_df['ad_track_day1'].describe()\n",
    "a = dict_of_ad_trk_df['ad_track_day1']['channel'].unique()\n",
    "print(sorted(a))"
   ]
  },
  {
   "cell_type": "markdown",
   "metadata": {},
   "source": [
    "#### Run Utility Functions"
   ]
  },
  {
   "cell_type": "code",
   "execution_count": 7,
   "metadata": {},
   "outputs": [],
   "source": [
    "run clickfraud_processing.py"
   ]
  },
  {
   "cell_type": "markdown",
   "metadata": {},
   "source": [
    "### Prepare data for experiments\n",
    "\n",
    "* Experiment 1: Ad clicks from Mon & Tues (train) ==> predict app downloads (part of Thurs)\n",
    "* Experiment 2: Ad clicks from Mon, Tues & Wed (train) ==> predict app downloads (part of Thurs)\n",
    "* Experiment 3: Ad clicks from Mon, Tues, Wed & part of Thurs (train) ==> predict app downloads (part of Thurs)"
   ]
  },
  {
   "cell_type": "code",
   "execution_count": 8,
   "metadata": {},
   "outputs": [],
   "source": [
    "# df_ckFraud_exp1 = pd.concat([dict_of_ad_trk_df[key] for key in [\"ad_track_day1\", \"ad_track_day2\"]], ignore_index=True)\n",
    "df_ckFraud_exp1 = pd.concat([dict_of_ad_trk_df[key] for key in [\"ad_track_day1\"]], ignore_index=True)\n",
    "df_ckFraud_exp2 = pd.concat([dict_of_ad_trk_df[key] for key in [\"ad_track_day1\", \"ad_track_day2\", \"ad_track_day3\"]], ignore_index=True)\n",
    "df_ckFraud_exp3 = pd.concat([dict_of_ad_trk_df[key] for key in [\"ad_track_day1\", \"ad_track_day2\", \"ad_track_day3\", \"ad_track_day4\"]], ignore_index=True)\n",
    "\n",
    "\n",
    "# Set the data types for each of the columns\n",
    "# Ensure we have appropriate column types\n",
    "\n",
    "cat_var = ['ip','app','device','os','channel', 'is_downloaded']\n",
    "\n",
    "\n",
    "for var in cat_var:\n",
    "    df_ckFraud_exp1[var] = df_ckFraud_exp1[var].astype('uint32')\n",
    "    df_ckFraud_exp2[var] = df_ckFraud_exp2[var].astype('uint32')\n",
    "    df_ckFraud_exp3[var] = df_ckFraud_exp3[var].astype('uint32')"
   ]
  },
  {
   "cell_type": "code",
   "execution_count": 9,
   "metadata": {},
   "outputs": [],
   "source": [
    "# Create time features\n",
    "date_var = ['click_time', 'click_date']\n",
    "col_name = 'click_time'\n",
    "\n",
    "for var in date_var:\n",
    "    df_ckFraud_exp1[var] = pd.to_datetime(df_ckFraud_exp1[var])\n",
    "    df_ckFraud_exp2[var] = pd.to_datetime(df_ckFraud_exp2[var])\n",
    "    df_ckFraud_exp3[var] = pd.to_datetime(df_ckFraud_exp3[var])\n",
    "               \n",
    "df_ckFraud_exp1 = create_date_ftrs(df_ckFraud_exp1, col_name)\n",
    "df_ckFraud_exp2 = create_date_ftrs(df_ckFraud_exp2, col_name)\n",
    "df_ckFraud_exp3 = create_date_ftrs(df_ckFraud_exp3, col_name)"
   ]
  },
  {
   "cell_type": "markdown",
   "metadata": {},
   "source": [
    "### Explore Data"
   ]
  },
  {
   "cell_type": "markdown",
   "metadata": {},
   "source": [
    "#### Top 10 apps on Mon - Experiment 1\n",
    "\n",
    "The popular apps, defined by the number of ad clicks pertaining to the app, are not same between when an app is not downloaded vs when it is downloaded. In other words, although certain mobile app ads are clicked widely, they are not necessarily the ones getting downloaded"
   ]
  },
  {
   "cell_type": "code",
   "execution_count": 13,
   "metadata": {},
   "outputs": [
    {
     "data": {
      "image/png": "[encoded data removed]",
      "text/plain": [
       "<Figure size 720x360 with 2 Axes>"
      ]
     },
     "metadata": {},
     "output_type": "display_data"
    }
   ],
   "source": [
    "%matplotlib inline\n",
    "\n",
    "plot_clickcnt_ftr(df_ckFraud_exp1, 'app', '1')"
   ]
  },
  {
   "cell_type": "markdown",
   "metadata": {},
   "source": [
    "#### Top 10 devices on Mon - Experiment 1"
   ]
  },
  {
   "cell_type": "code",
   "execution_count": 14,
   "metadata": {},
   "outputs": [
    {
     "data": {
      "image/png": "[encoded data removed]",
      "text/plain": [
       "<Figure size 720x360 with 2 Axes>"
      ]
     },
     "metadata": {},
     "output_type": "display_data"
    }
   ],
   "source": [
    "%matplotlib inline\n",
    "\n",
    "plot_clickcnt_ftr(df_ckFraud_exp1, 'device', '1')"
   ]
  },
  {
   "cell_type": "markdown",
   "metadata": {},
   "source": [
    "Same scenario as apps. Popular devices are different between when apps are downloaded vs when they are not"
   ]
  },
  {
   "cell_type": "markdown",
   "metadata": {},
   "source": [
    "#### Top 10 operating systems on Mon - Experiment 1"
   ]
  },
  {
   "cell_type": "code",
   "execution_count": 15,
   "metadata": {},
   "outputs": [
    {
     "data": {
      "image/png": "[encoded data removed]",
      "text/plain": [
       "<Figure size 720x360 with 2 Axes>"
      ]
     },
     "metadata": {},
     "output_type": "display_data"
    }
   ],
   "source": [
    "%matplotlib inline\n",
    "\n",
    "plot_clickcnt_ftr(df_ckFraud_exp1, 'os', '1')"
   ]
  },
  {
   "cell_type": "markdown",
   "metadata": {},
   "source": [
    "Popular operating systems are more or less same between when apps are downloaded vs when they are not"
   ]
  },
  {
   "cell_type": "markdown",
   "metadata": {},
   "source": [
    "#### Top 10 channels on Mon - Experiment 1"
   ]
  },
  {
   "cell_type": "code",
   "execution_count": 16,
   "metadata": {},
   "outputs": [
    {
     "data": {
      "image/png": "[encoded data removed]",
      "text/plain": [
       "<Figure size 720x360 with 2 Axes>"
      ]
     },
     "metadata": {},
     "output_type": "display_data"
    }
   ],
   "source": [
    "%matplotlib inline\n",
    "\n",
    "plot_clickcnt_ftr(df_ckFraud_exp1, 'channel', '1')"
   ]
  },
  {
   "cell_type": "markdown",
   "metadata": {},
   "source": [
    "Same scenario as apps. Popular channels are different between when apps are downloaded vs when they are not"
   ]
  },
  {
   "cell_type": "markdown",
   "metadata": {},
   "source": [
    "### Create Features"
   ]
  },
  {
   "cell_type": "code",
   "execution_count": 10,
   "metadata": {},
   "outputs": [
    {
     "data": {
      "text/plain": [
       "135"
      ]
     },
     "execution_count": 10,
     "metadata": {},
     "output_type": "execute_result"
    }
   ],
   "source": [
    "gc.collect()"
   ]
  },
  {
   "cell_type": "code",
   "execution_count": 11,
   "metadata": {},
   "outputs": [],
   "source": [
    "# Create appropriate features -- from a given ip address and time, number of clicks generated\n",
    "df_ckFraud_exp1 = count_clicks(df_ckFraud_exp1)\n",
    "df_ckFraud_exp2 = count_clicks(df_ckFraud_exp2)\n",
    "df_ckFraud_exp3 = count_clicks(df_ckFraud_exp3)\n",
    "\n",
    "# Drop click time, date and ip \n",
    "df_ckFraud_exp1 = df_ckFraud_exp1.drop(['click_time', 'click_date', 'ip'], axis=1)\n",
    "df_ckFraud_exp2 = df_ckFraud_exp2.drop(['click_time', 'click_date', 'ip'], axis=1)\n",
    "df_ckFraud_exp3 = df_ckFraud_exp3.drop(['click_time', 'click_date', 'ip'], axis=1)"
   ]
  },
  {
   "cell_type": "code",
   "execution_count": 12,
   "metadata": {},
   "outputs": [],
   "source": [
    "# Encode categorical columns -- frequency encoding\n",
    "df_ckFraud_exp1 = encode_cat_ftrs(df_ckFraud_exp1)\n",
    "df_ckFraud_exp2 = encode_cat_ftrs(df_ckFraud_exp2)\n",
    "df_ckFraud_exp3 = encode_cat_ftrs(df_ckFraud_exp3)"
   ]
  },
  {
   "cell_type": "code",
   "execution_count": 14,
   "metadata": {},
   "outputs": [
    {
     "data": {
      "text/html": [
       "<div>\n",
       "<style scoped>\n",
       "    .dataframe tbody tr th:only-of-type {\n",
       "        vertical-align: middle;\n",
       "    }\n",
       "\n",
       "    .dataframe tbody tr th {\n",
       "        vertical-align: top;\n",
       "    }\n",
       "\n",
       "    .dataframe thead th {\n",
       "        text-align: right;\n",
       "    }\n",
       "</style>\n",
       "<table border=\"1\" class=\"dataframe\">\n",
       "  <thead>\n",
       "    <tr style=\"text-align: right;\">\n",
       "      <th></th>\n",
       "      <th>app</th>\n",
       "      <th>device</th>\n",
       "      <th>os</th>\n",
       "      <th>channel</th>\n",
       "      <th>is_downloaded</th>\n",
       "      <th>day</th>\n",
       "      <th>hour</th>\n",
       "      <th>minute</th>\n",
       "      <th>second</th>\n",
       "      <th>clicks_by_ip_day_hr</th>\n",
       "      <th>clicks_by_ip_hr_chnl</th>\n",
       "      <th>clicks_by_ip_hr_os</th>\n",
       "      <th>clicks_by_ip_hr_app</th>\n",
       "      <th>clicks_by_ip_hr_device</th>\n",
       "      <th>app_freq</th>\n",
       "      <th>device_freq</th>\n",
       "      <th>os_freq</th>\n",
       "      <th>channel_freq</th>\n",
       "    </tr>\n",
       "  </thead>\n",
       "  <tbody>\n",
       "    <tr>\n",
       "      <th>599995</th>\n",
       "      <td>61</td>\n",
       "      <td>1</td>\n",
       "      <td>16</td>\n",
       "      <td>147</td>\n",
       "      <td>0</td>\n",
       "      <td>2</td>\n",
       "      <td>16</td>\n",
       "      <td>12</td>\n",
       "      <td>17</td>\n",
       "      <td>112</td>\n",
       "      <td>3</td>\n",
       "      <td>3</td>\n",
       "      <td>2</td>\n",
       "      <td>98</td>\n",
       "      <td>0.012868</td>\n",
       "      <td>0.93571</td>\n",
       "      <td>0.018125</td>\n",
       "      <td>0.021568</td>\n",
       "    </tr>\n",
       "    <tr>\n",
       "      <th>599996</th>\n",
       "      <td>9</td>\n",
       "      <td>1</td>\n",
       "      <td>22</td>\n",
       "      <td>35</td>\n",
       "      <td>0</td>\n",
       "      <td>2</td>\n",
       "      <td>16</td>\n",
       "      <td>12</td>\n",
       "      <td>17</td>\n",
       "      <td>24</td>\n",
       "      <td>2</td>\n",
       "      <td>1</td>\n",
       "      <td>4</td>\n",
       "      <td>20</td>\n",
       "      <td>0.116657</td>\n",
       "      <td>0.93571</td>\n",
       "      <td>0.036277</td>\n",
       "      <td>0.085962</td>\n",
       "    </tr>\n",
       "    <tr>\n",
       "      <th>599997</th>\n",
       "      <td>28</td>\n",
       "      <td>1</td>\n",
       "      <td>6</td>\n",
       "      <td>36</td>\n",
       "      <td>0</td>\n",
       "      <td>2</td>\n",
       "      <td>16</td>\n",
       "      <td>12</td>\n",
       "      <td>17</td>\n",
       "      <td>35</td>\n",
       "      <td>3</td>\n",
       "      <td>7</td>\n",
       "      <td>1</td>\n",
       "      <td>35</td>\n",
       "      <td>0.004857</td>\n",
       "      <td>0.93571</td>\n",
       "      <td>0.025397</td>\n",
       "      <td>0.016295</td>\n",
       "    </tr>\n",
       "    <tr>\n",
       "      <th>599998</th>\n",
       "      <td>61</td>\n",
       "      <td>1</td>\n",
       "      <td>13</td>\n",
       "      <td>147</td>\n",
       "      <td>0</td>\n",
       "      <td>2</td>\n",
       "      <td>16</td>\n",
       "      <td>12</td>\n",
       "      <td>17</td>\n",
       "      <td>38</td>\n",
       "      <td>1</td>\n",
       "      <td>2</td>\n",
       "      <td>1</td>\n",
       "      <td>37</td>\n",
       "      <td>0.012868</td>\n",
       "      <td>0.93571</td>\n",
       "      <td>0.221382</td>\n",
       "      <td>0.021568</td>\n",
       "    </tr>\n",
       "    <tr>\n",
       "      <th>599999</th>\n",
       "      <td>15</td>\n",
       "      <td>1</td>\n",
       "      <td>25</td>\n",
       "      <td>71</td>\n",
       "      <td>0</td>\n",
       "      <td>2</td>\n",
       "      <td>16</td>\n",
       "      <td>12</td>\n",
       "      <td>17</td>\n",
       "      <td>23</td>\n",
       "      <td>7</td>\n",
       "      <td>3</td>\n",
       "      <td>5</td>\n",
       "      <td>23</td>\n",
       "      <td>0.112660</td>\n",
       "      <td>0.93571</td>\n",
       "      <td>0.023993</td>\n",
       "      <td>0.087570</td>\n",
       "    </tr>\n",
       "  </tbody>\n",
       "</table>\n",
       "</div>"
      ],
      "text/plain": [
       "        app  device  os  channel  is_downloaded  day  hour  minute  second  \\\n",
       "599995   61       1  16      147              0    2    16      12      17   \n",
       "599996    9       1  22       35              0    2    16      12      17   \n",
       "599997   28       1   6       36              0    2    16      12      17   \n",
       "599998   61       1  13      147              0    2    16      12      17   \n",
       "599999   15       1  25       71              0    2    16      12      17   \n",
       "\n",
       "        clicks_by_ip_day_hr  clicks_by_ip_hr_chnl  clicks_by_ip_hr_os  \\\n",
       "599995                  112                     3                   3   \n",
       "599996                   24                     2                   1   \n",
       "599997                   35                     3                   7   \n",
       "599998                   38                     1                   2   \n",
       "599999                   23                     7                   3   \n",
       "\n",
       "        clicks_by_ip_hr_app  clicks_by_ip_hr_device  app_freq  device_freq  \\\n",
       "599995                    2                      98  0.012868      0.93571   \n",
       "599996                    4                      20  0.116657      0.93571   \n",
       "599997                    1                      35  0.004857      0.93571   \n",
       "599998                    1                      37  0.012868      0.93571   \n",
       "599999                    5                      23  0.112660      0.93571   \n",
       "\n",
       "         os_freq  channel_freq  \n",
       "599995  0.018125      0.021568  \n",
       "599996  0.036277      0.085962  \n",
       "599997  0.025397      0.016295  \n",
       "599998  0.221382      0.021568  \n",
       "599999  0.023993      0.087570  "
      ]
     },
     "execution_count": 14,
     "metadata": {},
     "output_type": "execute_result"
    }
   ],
   "source": [
    "# Check the prepared dataset\n",
    "df_ckFraud_exp1.tail()"
   ]
  },
  {
   "cell_type": "code",
   "execution_count": 15,
   "metadata": {},
   "outputs": [
    {
     "data": {
      "text/html": [
       "<div>\n",
       "<style scoped>\n",
       "    .dataframe tbody tr th:only-of-type {\n",
       "        vertical-align: middle;\n",
       "    }\n",
       "\n",
       "    .dataframe tbody tr th {\n",
       "        vertical-align: top;\n",
       "    }\n",
       "\n",
       "    .dataframe thead th {\n",
       "        text-align: right;\n",
       "    }\n",
       "</style>\n",
       "<table border=\"1\" class=\"dataframe\">\n",
       "  <thead>\n",
       "    <tr style=\"text-align: right;\">\n",
       "      <th></th>\n",
       "      <th>app</th>\n",
       "      <th>device</th>\n",
       "      <th>os</th>\n",
       "      <th>channel</th>\n",
       "      <th>is_downloaded</th>\n",
       "      <th>day</th>\n",
       "      <th>hour</th>\n",
       "      <th>minute</th>\n",
       "      <th>second</th>\n",
       "      <th>clicks_by_ip_day_hr</th>\n",
       "      <th>clicks_by_ip_hr_chnl</th>\n",
       "      <th>clicks_by_ip_hr_os</th>\n",
       "      <th>clicks_by_ip_hr_app</th>\n",
       "      <th>clicks_by_ip_hr_device</th>\n",
       "      <th>app_freq</th>\n",
       "      <th>device_freq</th>\n",
       "      <th>os_freq</th>\n",
       "      <th>channel_freq</th>\n",
       "    </tr>\n",
       "  </thead>\n",
       "  <tbody>\n",
       "    <tr>\n",
       "      <th>1799995</th>\n",
       "      <td>2</td>\n",
       "      <td>1</td>\n",
       "      <td>18</td>\n",
       "      <td>51</td>\n",
       "      <td>0</td>\n",
       "      <td>4</td>\n",
       "      <td>0</td>\n",
       "      <td>10</td>\n",
       "      <td>27</td>\n",
       "      <td>58</td>\n",
       "      <td>19</td>\n",
       "      <td>3</td>\n",
       "      <td>24</td>\n",
       "      <td>94</td>\n",
       "      <td>0.091979</td>\n",
       "      <td>0.947446</td>\n",
       "      <td>0.047518</td>\n",
       "      <td>0.020742</td>\n",
       "    </tr>\n",
       "    <tr>\n",
       "      <th>1799996</th>\n",
       "      <td>3</td>\n",
       "      <td>2</td>\n",
       "      <td>13</td>\n",
       "      <td>84</td>\n",
       "      <td>0</td>\n",
       "      <td>4</td>\n",
       "      <td>0</td>\n",
       "      <td>10</td>\n",
       "      <td>27</td>\n",
       "      <td>32</td>\n",
       "      <td>2</td>\n",
       "      <td>11</td>\n",
       "      <td>7</td>\n",
       "      <td>12</td>\n",
       "      <td>0.169171</td>\n",
       "      <td>0.039588</td>\n",
       "      <td>0.221243</td>\n",
       "      <td>0.058326</td>\n",
       "    </tr>\n",
       "    <tr>\n",
       "      <th>1799997</th>\n",
       "      <td>3</td>\n",
       "      <td>1</td>\n",
       "      <td>13</td>\n",
       "      <td>110</td>\n",
       "      <td>0</td>\n",
       "      <td>4</td>\n",
       "      <td>0</td>\n",
       "      <td>10</td>\n",
       "      <td>27</td>\n",
       "      <td>3</td>\n",
       "      <td>2</td>\n",
       "      <td>3</td>\n",
       "      <td>2</td>\n",
       "      <td>3</td>\n",
       "      <td>0.169171</td>\n",
       "      <td>0.947446</td>\n",
       "      <td>0.221243</td>\n",
       "      <td>0.025615</td>\n",
       "    </tr>\n",
       "    <tr>\n",
       "      <th>1799998</th>\n",
       "      <td>1</td>\n",
       "      <td>1</td>\n",
       "      <td>22</td>\n",
       "      <td>42</td>\n",
       "      <td>0</td>\n",
       "      <td>4</td>\n",
       "      <td>0</td>\n",
       "      <td>10</td>\n",
       "      <td>27</td>\n",
       "      <td>56</td>\n",
       "      <td>9</td>\n",
       "      <td>3</td>\n",
       "      <td>7</td>\n",
       "      <td>139</td>\n",
       "      <td>0.046613</td>\n",
       "      <td>0.947446</td>\n",
       "      <td>0.038723</td>\n",
       "      <td>0.029306</td>\n",
       "    </tr>\n",
       "    <tr>\n",
       "      <th>1799999</th>\n",
       "      <td>11</td>\n",
       "      <td>1</td>\n",
       "      <td>19</td>\n",
       "      <td>45</td>\n",
       "      <td>0</td>\n",
       "      <td>4</td>\n",
       "      <td>0</td>\n",
       "      <td>10</td>\n",
       "      <td>27</td>\n",
       "      <td>59</td>\n",
       "      <td>4</td>\n",
       "      <td>59</td>\n",
       "      <td>5</td>\n",
       "      <td>80</td>\n",
       "      <td>0.014798</td>\n",
       "      <td>0.947446</td>\n",
       "      <td>0.247792</td>\n",
       "      <td>0.007015</td>\n",
       "    </tr>\n",
       "  </tbody>\n",
       "</table>\n",
       "</div>"
      ],
      "text/plain": [
       "         app  device  os  channel  is_downloaded  day  hour  minute  second  \\\n",
       "1799995    2       1  18       51              0    4     0      10      27   \n",
       "1799996    3       2  13       84              0    4     0      10      27   \n",
       "1799997    3       1  13      110              0    4     0      10      27   \n",
       "1799998    1       1  22       42              0    4     0      10      27   \n",
       "1799999   11       1  19       45              0    4     0      10      27   \n",
       "\n",
       "         clicks_by_ip_day_hr  clicks_by_ip_hr_chnl  clicks_by_ip_hr_os  \\\n",
       "1799995                   58                    19                   3   \n",
       "1799996                   32                     2                  11   \n",
       "1799997                    3                     2                   3   \n",
       "1799998                   56                     9                   3   \n",
       "1799999                   59                     4                  59   \n",
       "\n",
       "         clicks_by_ip_hr_app  clicks_by_ip_hr_device  app_freq  device_freq  \\\n",
       "1799995                   24                      94  0.091979     0.947446   \n",
       "1799996                    7                      12  0.169171     0.039588   \n",
       "1799997                    2                       3  0.169171     0.947446   \n",
       "1799998                    7                     139  0.046613     0.947446   \n",
       "1799999                    5                      80  0.014798     0.947446   \n",
       "\n",
       "          os_freq  channel_freq  \n",
       "1799995  0.047518      0.020742  \n",
       "1799996  0.221243      0.058326  \n",
       "1799997  0.221243      0.025615  \n",
       "1799998  0.038723      0.029306  \n",
       "1799999  0.247792      0.007015  "
      ]
     },
     "execution_count": 15,
     "metadata": {},
     "output_type": "execute_result"
    }
   ],
   "source": [
    "# Check the prepared dataset\n",
    "df_ckFraud_exp2.tail()"
   ]
  },
  {
   "cell_type": "code",
   "execution_count": 16,
   "metadata": {},
   "outputs": [
    {
     "data": {
      "text/html": [
       "<div>\n",
       "<style scoped>\n",
       "    .dataframe tbody tr th:only-of-type {\n",
       "        vertical-align: middle;\n",
       "    }\n",
       "\n",
       "    .dataframe tbody tr th {\n",
       "        vertical-align: top;\n",
       "    }\n",
       "\n",
       "    .dataframe thead th {\n",
       "        text-align: right;\n",
       "    }\n",
       "</style>\n",
       "<table border=\"1\" class=\"dataframe\">\n",
       "  <thead>\n",
       "    <tr style=\"text-align: right;\">\n",
       "      <th></th>\n",
       "      <th>app</th>\n",
       "      <th>device</th>\n",
       "      <th>os</th>\n",
       "      <th>channel</th>\n",
       "      <th>is_downloaded</th>\n",
       "      <th>day</th>\n",
       "      <th>hour</th>\n",
       "      <th>minute</th>\n",
       "      <th>second</th>\n",
       "      <th>clicks_by_ip_day_hr</th>\n",
       "      <th>clicks_by_ip_hr_chnl</th>\n",
       "      <th>clicks_by_ip_hr_os</th>\n",
       "      <th>clicks_by_ip_hr_app</th>\n",
       "      <th>clicks_by_ip_hr_device</th>\n",
       "      <th>app_freq</th>\n",
       "      <th>device_freq</th>\n",
       "      <th>os_freq</th>\n",
       "      <th>channel_freq</th>\n",
       "    </tr>\n",
       "  </thead>\n",
       "  <tbody>\n",
       "    <tr>\n",
       "      <th>2399995</th>\n",
       "      <td>12</td>\n",
       "      <td>1</td>\n",
       "      <td>2</td>\n",
       "      <td>158</td>\n",
       "      <td>0</td>\n",
       "      <td>5</td>\n",
       "      <td>0</td>\n",
       "      <td>10</td>\n",
       "      <td>50</td>\n",
       "      <td>33</td>\n",
       "      <td>1</td>\n",
       "      <td>1</td>\n",
       "      <td>6</td>\n",
       "      <td>25</td>\n",
       "      <td>0.127658</td>\n",
       "      <td>0.951155</td>\n",
       "      <td>0.002803</td>\n",
       "      <td>0.003917</td>\n",
       "    </tr>\n",
       "    <tr>\n",
       "      <th>2399996</th>\n",
       "      <td>9</td>\n",
       "      <td>1</td>\n",
       "      <td>18</td>\n",
       "      <td>35</td>\n",
       "      <td>0</td>\n",
       "      <td>5</td>\n",
       "      <td>0</td>\n",
       "      <td>10</td>\n",
       "      <td>50</td>\n",
       "      <td>34</td>\n",
       "      <td>1</td>\n",
       "      <td>7</td>\n",
       "      <td>3</td>\n",
       "      <td>34</td>\n",
       "      <td>0.110339</td>\n",
       "      <td>0.951155</td>\n",
       "      <td>0.047770</td>\n",
       "      <td>0.072485</td>\n",
       "    </tr>\n",
       "    <tr>\n",
       "      <th>2399997</th>\n",
       "      <td>9</td>\n",
       "      <td>1</td>\n",
       "      <td>19</td>\n",
       "      <td>15</td>\n",
       "      <td>0</td>\n",
       "      <td>5</td>\n",
       "      <td>0</td>\n",
       "      <td>10</td>\n",
       "      <td>50</td>\n",
       "      <td>19</td>\n",
       "      <td>2</td>\n",
       "      <td>8</td>\n",
       "      <td>5</td>\n",
       "      <td>38</td>\n",
       "      <td>0.110339</td>\n",
       "      <td>0.951155</td>\n",
       "      <td>0.247325</td>\n",
       "      <td>0.047028</td>\n",
       "    </tr>\n",
       "    <tr>\n",
       "      <th>2399998</th>\n",
       "      <td>18</td>\n",
       "      <td>1</td>\n",
       "      <td>18</td>\n",
       "      <td>35</td>\n",
       "      <td>0</td>\n",
       "      <td>5</td>\n",
       "      <td>0</td>\n",
       "      <td>10</td>\n",
       "      <td>50</td>\n",
       "      <td>187</td>\n",
       "      <td>42</td>\n",
       "      <td>180</td>\n",
       "      <td>11</td>\n",
       "      <td>244</td>\n",
       "      <td>0.087770</td>\n",
       "      <td>0.951155</td>\n",
       "      <td>0.047770</td>\n",
       "      <td>0.072485</td>\n",
       "    </tr>\n",
       "    <tr>\n",
       "      <th>2399999</th>\n",
       "      <td>1</td>\n",
       "      <td>1</td>\n",
       "      <td>19</td>\n",
       "      <td>37</td>\n",
       "      <td>0</td>\n",
       "      <td>5</td>\n",
       "      <td>0</td>\n",
       "      <td>10</td>\n",
       "      <td>50</td>\n",
       "      <td>109</td>\n",
       "      <td>1</td>\n",
       "      <td>58</td>\n",
       "      <td>10</td>\n",
       "      <td>272</td>\n",
       "      <td>0.042299</td>\n",
       "      <td>0.951155</td>\n",
       "      <td>0.247325</td>\n",
       "      <td>0.011183</td>\n",
       "    </tr>\n",
       "  </tbody>\n",
       "</table>\n",
       "</div>"
      ],
      "text/plain": [
       "         app  device  os  channel  is_downloaded  day  hour  minute  second  \\\n",
       "2399995   12       1   2      158              0    5     0      10      50   \n",
       "2399996    9       1  18       35              0    5     0      10      50   \n",
       "2399997    9       1  19       15              0    5     0      10      50   \n",
       "2399998   18       1  18       35              0    5     0      10      50   \n",
       "2399999    1       1  19       37              0    5     0      10      50   \n",
       "\n",
       "         clicks_by_ip_day_hr  clicks_by_ip_hr_chnl  clicks_by_ip_hr_os  \\\n",
       "2399995                   33                     1                   1   \n",
       "2399996                   34                     1                   7   \n",
       "2399997                   19                     2                   8   \n",
       "2399998                  187                    42                 180   \n",
       "2399999                  109                     1                  58   \n",
       "\n",
       "         clicks_by_ip_hr_app  clicks_by_ip_hr_device  app_freq  device_freq  \\\n",
       "2399995                    6                      25  0.127658     0.951155   \n",
       "2399996                    3                      34  0.110339     0.951155   \n",
       "2399997                    5                      38  0.110339     0.951155   \n",
       "2399998                   11                     244  0.087770     0.951155   \n",
       "2399999                   10                     272  0.042299     0.951155   \n",
       "\n",
       "          os_freq  channel_freq  \n",
       "2399995  0.002803      0.003917  \n",
       "2399996  0.047770      0.072485  \n",
       "2399997  0.247325      0.047028  \n",
       "2399998  0.047770      0.072485  \n",
       "2399999  0.247325      0.011183  "
      ]
     },
     "execution_count": 16,
     "metadata": {},
     "output_type": "execute_result"
    }
   ],
   "source": [
    "# Check the prepared dataset\n",
    "df_ckFraud_exp3.tail()"
   ]
  },
  {
   "cell_type": "code",
   "execution_count": 18,
   "metadata": {},
   "outputs": [
    {
     "name": "stdout",
     "output_type": "stream",
     "text": [
      "(600000, 18) (1800000, 18) (2400000, 18)\n"
     ]
    }
   ],
   "source": [
    "#df_ckFraud_exp2.groupby('app').size()\n",
    "#df_ckFraud_exp2.shape[0]\n",
    "# df_ckFraud_exp1['day'].unique()\n",
    "print(df_ckFraud_exp1.shape, df_ckFraud_exp2.shape, df_ckFraud_exp3.shape)"
   ]
  },
  {
   "cell_type": "markdown",
   "metadata": {},
   "source": [
    "#### Ensure there are no missing values"
   ]
  },
  {
   "cell_type": "code",
   "execution_count": 20,
   "metadata": {},
   "outputs": [
    {
     "data": {
      "text/plain": [
       "app                       0\n",
       "device                    0\n",
       "os                        0\n",
       "channel                   0\n",
       "is_downloaded             0\n",
       "day                       0\n",
       "hour                      0\n",
       "minute                    0\n",
       "second                    0\n",
       "clicks_by_ip_day_hr       0\n",
       "clicks_by_ip_hr_chnl      0\n",
       "clicks_by_ip_hr_os        0\n",
       "clicks_by_ip_hr_app       0\n",
       "clicks_by_ip_hr_device    0\n",
       "app_freq                  0\n",
       "device_freq               0\n",
       "os_freq                   0\n",
       "channel_freq              0\n",
       "dtype: int64"
      ]
     },
     "execution_count": 20,
     "metadata": {},
     "output_type": "execute_result"
    }
   ],
   "source": [
    "# Ensure there are no missing values\n",
    "df_ckFraud_exp1.apply(lambda x: sum(x.isnull()))\n",
    "df_ckFraud_exp2.apply(lambda x: sum(x.isnull()))\n",
    "df_ckFraud_exp3.apply(lambda x: sum(x.isnull()))\n",
    "#df_ckFraud_exp1.apply(lambda x: sum(x.isna()))\n",
    "#data.apply(lambda x: sum(x.isnull()))"
   ]
  },
  {
   "cell_type": "code",
   "execution_count": 35,
   "metadata": {},
   "outputs": [
    {
     "data": {
      "text/html": [
       "<div>\n",
       "<style scoped>\n",
       "    .dataframe tbody tr th:only-of-type {\n",
       "        vertical-align: middle;\n",
       "    }\n",
       "\n",
       "    .dataframe tbody tr th {\n",
       "        vertical-align: top;\n",
       "    }\n",
       "\n",
       "    .dataframe thead th {\n",
       "        text-align: right;\n",
       "    }\n",
       "</style>\n",
       "<table border=\"1\" class=\"dataframe\">\n",
       "  <thead>\n",
       "    <tr style=\"text-align: right;\">\n",
       "      <th></th>\n",
       "      <th>app</th>\n",
       "      <th>device</th>\n",
       "      <th>os</th>\n",
       "      <th>channel</th>\n",
       "      <th>is_downloaded</th>\n",
       "      <th>day</th>\n",
       "      <th>hour</th>\n",
       "      <th>minute</th>\n",
       "      <th>second</th>\n",
       "      <th>clicks_by_ip_day_hr</th>\n",
       "      <th>clicks_by_ip_hr_chnl</th>\n",
       "      <th>clicks_by_ip_hr_os</th>\n",
       "      <th>clicks_by_ip_hr_app</th>\n",
       "      <th>clicks_by_ip_hr_device</th>\n",
       "      <th>app_freq</th>\n",
       "      <th>device_freq</th>\n",
       "      <th>os_freq</th>\n",
       "      <th>channel_freq</th>\n",
       "    </tr>\n",
       "  </thead>\n",
       "  <tbody>\n",
       "    <tr>\n",
       "      <th>app</th>\n",
       "      <td>1.000000</td>\n",
       "      <td>0.151100</td>\n",
       "      <td>0.137169</td>\n",
       "      <td>-0.018555</td>\n",
       "      <td>0.056048</td>\n",
       "      <td>-0.001745</td>\n",
       "      <td>-0.005837</td>\n",
       "      <td>0.004931</td>\n",
       "      <td>-0.000941</td>\n",
       "      <td>0.001318</td>\n",
       "      <td>-0.037514</td>\n",
       "      <td>-0.020609</td>\n",
       "      <td>-0.062875</td>\n",
       "      <td>-0.013790</td>\n",
       "      <td>-0.428591</td>\n",
       "      <td>-0.090975</td>\n",
       "      <td>-0.044542</td>\n",
       "      <td>-0.094525</td>\n",
       "    </tr>\n",
       "    <tr>\n",
       "      <th>device</th>\n",
       "      <td>0.151100</td>\n",
       "      <td>1.000000</td>\n",
       "      <td>0.859331</td>\n",
       "      <td>-0.085785</td>\n",
       "      <td>0.007017</td>\n",
       "      <td>0.006722</td>\n",
       "      <td>-0.007077</td>\n",
       "      <td>-0.000403</td>\n",
       "      <td>-0.001031</td>\n",
       "      <td>0.001357</td>\n",
       "      <td>0.004561</td>\n",
       "      <td>-0.025469</td>\n",
       "      <td>-0.009378</td>\n",
       "      <td>-0.027942</td>\n",
       "      <td>-0.042371</td>\n",
       "      <td>-0.435897</td>\n",
       "      <td>-0.109731</td>\n",
       "      <td>0.034134</td>\n",
       "    </tr>\n",
       "    <tr>\n",
       "      <th>os</th>\n",
       "      <td>0.137169</td>\n",
       "      <td>0.859331</td>\n",
       "      <td>1.000000</td>\n",
       "      <td>-0.063002</td>\n",
       "      <td>-0.001591</td>\n",
       "      <td>0.007669</td>\n",
       "      <td>-0.008201</td>\n",
       "      <td>-0.001073</td>\n",
       "      <td>-0.001552</td>\n",
       "      <td>0.003492</td>\n",
       "      <td>0.005728</td>\n",
       "      <td>-0.038954</td>\n",
       "      <td>-0.005215</td>\n",
       "      <td>-0.023132</td>\n",
       "      <td>-0.041813</td>\n",
       "      <td>-0.392699</td>\n",
       "      <td>-0.187411</td>\n",
       "      <td>0.011814</td>\n",
       "    </tr>\n",
       "    <tr>\n",
       "      <th>channel</th>\n",
       "      <td>-0.018555</td>\n",
       "      <td>-0.085785</td>\n",
       "      <td>-0.063002</td>\n",
       "      <td>1.000000</td>\n",
       "      <td>-0.017334</td>\n",
       "      <td>0.079463</td>\n",
       "      <td>-0.071021</td>\n",
       "      <td>0.013357</td>\n",
       "      <td>-0.001677</td>\n",
       "      <td>-0.013221</td>\n",
       "      <td>-0.080853</td>\n",
       "      <td>-0.019728</td>\n",
       "      <td>-0.013609</td>\n",
       "      <td>-0.000984</td>\n",
       "      <td>0.077422</td>\n",
       "      <td>0.087759</td>\n",
       "      <td>0.022104</td>\n",
       "      <td>-0.318993</td>\n",
       "    </tr>\n",
       "    <tr>\n",
       "      <th>is_downloaded</th>\n",
       "      <td>0.056048</td>\n",
       "      <td>0.007017</td>\n",
       "      <td>-0.001591</td>\n",
       "      <td>-0.017334</td>\n",
       "      <td>1.000000</td>\n",
       "      <td>0.000225</td>\n",
       "      <td>-0.000714</td>\n",
       "      <td>0.003877</td>\n",
       "      <td>-0.000829</td>\n",
       "      <td>-0.006001</td>\n",
       "      <td>-0.010094</td>\n",
       "      <td>-0.008493</td>\n",
       "      <td>-0.010055</td>\n",
       "      <td>-0.006998</td>\n",
       "      <td>-0.059781</td>\n",
       "      <td>-0.043890</td>\n",
       "      <td>-0.005233</td>\n",
       "      <td>-0.038705</td>\n",
       "    </tr>\n",
       "    <tr>\n",
       "      <th>day</th>\n",
       "      <td>-0.001745</td>\n",
       "      <td>0.006722</td>\n",
       "      <td>0.007669</td>\n",
       "      <td>0.079463</td>\n",
       "      <td>0.000225</td>\n",
       "      <td>1.000000</td>\n",
       "      <td>-0.866023</td>\n",
       "      <td>-0.076775</td>\n",
       "      <td>-0.006746</td>\n",
       "      <td>-0.029464</td>\n",
       "      <td>-0.015959</td>\n",
       "      <td>0.013620</td>\n",
       "      <td>0.014200</td>\n",
       "      <td>0.033923</td>\n",
       "      <td>0.034723</td>\n",
       "      <td>0.027705</td>\n",
       "      <td>0.008437</td>\n",
       "      <td>-0.060367</td>\n",
       "    </tr>\n",
       "    <tr>\n",
       "      <th>hour</th>\n",
       "      <td>-0.005837</td>\n",
       "      <td>-0.007077</td>\n",
       "      <td>-0.008201</td>\n",
       "      <td>-0.071021</td>\n",
       "      <td>-0.000714</td>\n",
       "      <td>-0.866023</td>\n",
       "      <td>1.000000</td>\n",
       "      <td>0.086723</td>\n",
       "      <td>0.006825</td>\n",
       "      <td>0.065606</td>\n",
       "      <td>0.030727</td>\n",
       "      <td>0.000015</td>\n",
       "      <td>0.001225</td>\n",
       "      <td>-0.019307</td>\n",
       "      <td>-0.023790</td>\n",
       "      <td>-0.036760</td>\n",
       "      <td>-0.009570</td>\n",
       "      <td>0.068526</td>\n",
       "    </tr>\n",
       "    <tr>\n",
       "      <th>minute</th>\n",
       "      <td>0.004931</td>\n",
       "      <td>-0.000403</td>\n",
       "      <td>-0.001073</td>\n",
       "      <td>0.013357</td>\n",
       "      <td>0.003877</td>\n",
       "      <td>-0.076775</td>\n",
       "      <td>0.086723</td>\n",
       "      <td>1.000000</td>\n",
       "      <td>-0.069343</td>\n",
       "      <td>0.006743</td>\n",
       "      <td>0.007289</td>\n",
       "      <td>0.001920</td>\n",
       "      <td>0.004444</td>\n",
       "      <td>-0.002286</td>\n",
       "      <td>0.022301</td>\n",
       "      <td>-0.002642</td>\n",
       "      <td>0.002827</td>\n",
       "      <td>-0.001650</td>\n",
       "    </tr>\n",
       "    <tr>\n",
       "      <th>second</th>\n",
       "      <td>-0.000941</td>\n",
       "      <td>-0.001031</td>\n",
       "      <td>-0.001552</td>\n",
       "      <td>-0.001677</td>\n",
       "      <td>-0.000829</td>\n",
       "      <td>-0.006746</td>\n",
       "      <td>0.006825</td>\n",
       "      <td>-0.069343</td>\n",
       "      <td>1.000000</td>\n",
       "      <td>-0.001377</td>\n",
       "      <td>-0.001305</td>\n",
       "      <td>0.000240</td>\n",
       "      <td>-0.001511</td>\n",
       "      <td>-0.001423</td>\n",
       "      <td>-0.003575</td>\n",
       "      <td>-0.001152</td>\n",
       "      <td>-0.001051</td>\n",
       "      <td>-0.003392</td>\n",
       "    </tr>\n",
       "    <tr>\n",
       "      <th>clicks_by_ip_day_hr</th>\n",
       "      <td>0.001318</td>\n",
       "      <td>0.001357</td>\n",
       "      <td>0.003492</td>\n",
       "      <td>-0.013221</td>\n",
       "      <td>-0.006001</td>\n",
       "      <td>-0.029464</td>\n",
       "      <td>0.065606</td>\n",
       "      <td>0.006743</td>\n",
       "      <td>-0.001377</td>\n",
       "      <td>1.000000</td>\n",
       "      <td>0.646329</td>\n",
       "      <td>0.688075</td>\n",
       "      <td>0.783809</td>\n",
       "      <td>0.888336</td>\n",
       "      <td>0.012967</td>\n",
       "      <td>-0.071263</td>\n",
       "      <td>-0.001953</td>\n",
       "      <td>0.003572</td>\n",
       "    </tr>\n",
       "    <tr>\n",
       "      <th>clicks_by_ip_hr_chnl</th>\n",
       "      <td>-0.037514</td>\n",
       "      <td>0.004561</td>\n",
       "      <td>0.005728</td>\n",
       "      <td>-0.080853</td>\n",
       "      <td>-0.010094</td>\n",
       "      <td>-0.015959</td>\n",
       "      <td>0.030727</td>\n",
       "      <td>0.007289</td>\n",
       "      <td>-0.001305</td>\n",
       "      <td>0.646329</td>\n",
       "      <td>1.000000</td>\n",
       "      <td>0.505071</td>\n",
       "      <td>0.740605</td>\n",
       "      <td>0.600177</td>\n",
       "      <td>0.026062</td>\n",
       "      <td>-0.076572</td>\n",
       "      <td>-0.005549</td>\n",
       "      <td>0.119573</td>\n",
       "    </tr>\n",
       "    <tr>\n",
       "      <th>clicks_by_ip_hr_os</th>\n",
       "      <td>-0.020609</td>\n",
       "      <td>-0.025469</td>\n",
       "      <td>-0.038954</td>\n",
       "      <td>-0.019728</td>\n",
       "      <td>-0.008493</td>\n",
       "      <td>0.013620</td>\n",
       "      <td>0.000015</td>\n",
       "      <td>0.001920</td>\n",
       "      <td>0.000240</td>\n",
       "      <td>0.688075</td>\n",
       "      <td>0.505071</td>\n",
       "      <td>1.000000</td>\n",
       "      <td>0.595119</td>\n",
       "      <td>0.705689</td>\n",
       "      <td>-0.005311</td>\n",
       "      <td>-0.003090</td>\n",
       "      <td>0.183207</td>\n",
       "      <td>0.020098</td>\n",
       "    </tr>\n",
       "    <tr>\n",
       "      <th>clicks_by_ip_hr_app</th>\n",
       "      <td>-0.062875</td>\n",
       "      <td>-0.009378</td>\n",
       "      <td>-0.005215</td>\n",
       "      <td>-0.013609</td>\n",
       "      <td>-0.010055</td>\n",
       "      <td>0.014200</td>\n",
       "      <td>0.001225</td>\n",
       "      <td>0.004444</td>\n",
       "      <td>-0.001511</td>\n",
       "      <td>0.783809</td>\n",
       "      <td>0.740605</td>\n",
       "      <td>0.595119</td>\n",
       "      <td>1.000000</td>\n",
       "      <td>0.765038</td>\n",
       "      <td>0.133967</td>\n",
       "      <td>-0.059925</td>\n",
       "      <td>-0.001530</td>\n",
       "      <td>0.012206</td>\n",
       "    </tr>\n",
       "    <tr>\n",
       "      <th>clicks_by_ip_hr_device</th>\n",
       "      <td>-0.013790</td>\n",
       "      <td>-0.027942</td>\n",
       "      <td>-0.023132</td>\n",
       "      <td>-0.000984</td>\n",
       "      <td>-0.006998</td>\n",
       "      <td>0.033923</td>\n",
       "      <td>-0.019307</td>\n",
       "      <td>-0.002286</td>\n",
       "      <td>-0.001423</td>\n",
       "      <td>0.888336</td>\n",
       "      <td>0.600177</td>\n",
       "      <td>0.705689</td>\n",
       "      <td>0.765038</td>\n",
       "      <td>1.000000</td>\n",
       "      <td>0.016534</td>\n",
       "      <td>0.048842</td>\n",
       "      <td>0.009198</td>\n",
       "      <td>-0.000525</td>\n",
       "    </tr>\n",
       "    <tr>\n",
       "      <th>app_freq</th>\n",
       "      <td>-0.428591</td>\n",
       "      <td>-0.042371</td>\n",
       "      <td>-0.041813</td>\n",
       "      <td>0.077422</td>\n",
       "      <td>-0.059781</td>\n",
       "      <td>0.034723</td>\n",
       "      <td>-0.023790</td>\n",
       "      <td>0.022301</td>\n",
       "      <td>-0.003575</td>\n",
       "      <td>0.012967</td>\n",
       "      <td>0.026062</td>\n",
       "      <td>-0.005311</td>\n",
       "      <td>0.133967</td>\n",
       "      <td>0.016534</td>\n",
       "      <td>1.000000</td>\n",
       "      <td>0.036887</td>\n",
       "      <td>0.016842</td>\n",
       "      <td>0.140038</td>\n",
       "    </tr>\n",
       "    <tr>\n",
       "      <th>device_freq</th>\n",
       "      <td>-0.090975</td>\n",
       "      <td>-0.435897</td>\n",
       "      <td>-0.392699</td>\n",
       "      <td>0.087759</td>\n",
       "      <td>-0.043890</td>\n",
       "      <td>0.027705</td>\n",
       "      <td>-0.036760</td>\n",
       "      <td>-0.002642</td>\n",
       "      <td>-0.001152</td>\n",
       "      <td>-0.071263</td>\n",
       "      <td>-0.076572</td>\n",
       "      <td>-0.003090</td>\n",
       "      <td>-0.059925</td>\n",
       "      <td>0.048842</td>\n",
       "      <td>0.036887</td>\n",
       "      <td>1.000000</td>\n",
       "      <td>0.124892</td>\n",
       "      <td>-0.010120</td>\n",
       "    </tr>\n",
       "    <tr>\n",
       "      <th>os_freq</th>\n",
       "      <td>-0.044542</td>\n",
       "      <td>-0.109731</td>\n",
       "      <td>-0.187411</td>\n",
       "      <td>0.022104</td>\n",
       "      <td>-0.005233</td>\n",
       "      <td>0.008437</td>\n",
       "      <td>-0.009570</td>\n",
       "      <td>0.002827</td>\n",
       "      <td>-0.001051</td>\n",
       "      <td>-0.001953</td>\n",
       "      <td>-0.005549</td>\n",
       "      <td>0.183207</td>\n",
       "      <td>-0.001530</td>\n",
       "      <td>0.009198</td>\n",
       "      <td>0.016842</td>\n",
       "      <td>0.124892</td>\n",
       "      <td>1.000000</td>\n",
       "      <td>-0.004913</td>\n",
       "    </tr>\n",
       "    <tr>\n",
       "      <th>channel_freq</th>\n",
       "      <td>-0.094525</td>\n",
       "      <td>0.034134</td>\n",
       "      <td>0.011814</td>\n",
       "      <td>-0.318993</td>\n",
       "      <td>-0.038705</td>\n",
       "      <td>-0.060367</td>\n",
       "      <td>0.068526</td>\n",
       "      <td>-0.001650</td>\n",
       "      <td>-0.003392</td>\n",
       "      <td>0.003572</td>\n",
       "      <td>0.119573</td>\n",
       "      <td>0.020098</td>\n",
       "      <td>0.012206</td>\n",
       "      <td>-0.000525</td>\n",
       "      <td>0.140038</td>\n",
       "      <td>-0.010120</td>\n",
       "      <td>-0.004913</td>\n",
       "      <td>1.000000</td>\n",
       "    </tr>\n",
       "  </tbody>\n",
       "</table>\n",
       "</div>"
      ],
      "text/plain": [
       "                             app    device        os   channel  is_downloaded  \\\n",
       "app                     1.000000  0.151100  0.137169 -0.018555       0.056048   \n",
       "device                  0.151100  1.000000  0.859331 -0.085785       0.007017   \n",
       "os                      0.137169  0.859331  1.000000 -0.063002      -0.001591   \n",
       "channel                -0.018555 -0.085785 -0.063002  1.000000      -0.017334   \n",
       "is_downloaded           0.056048  0.007017 -0.001591 -0.017334       1.000000   \n",
       "day                    -0.001745  0.006722  0.007669  0.079463       0.000225   \n",
       "hour                   -0.005837 -0.007077 -0.008201 -0.071021      -0.000714   \n",
       "minute                  0.004931 -0.000403 -0.001073  0.013357       0.003877   \n",
       "second                 -0.000941 -0.001031 -0.001552 -0.001677      -0.000829   \n",
       "clicks_by_ip_day_hr     0.001318  0.001357  0.003492 -0.013221      -0.006001   \n",
       "clicks_by_ip_hr_chnl   -0.037514  0.004561  0.005728 -0.080853      -0.010094   \n",
       "clicks_by_ip_hr_os     -0.020609 -0.025469 -0.038954 -0.019728      -0.008493   \n",
       "clicks_by_ip_hr_app    -0.062875 -0.009378 -0.005215 -0.013609      -0.010055   \n",
       "clicks_by_ip_hr_device -0.013790 -0.027942 -0.023132 -0.000984      -0.006998   \n",
       "app_freq               -0.428591 -0.042371 -0.041813  0.077422      -0.059781   \n",
       "device_freq            -0.090975 -0.435897 -0.392699  0.087759      -0.043890   \n",
       "os_freq                -0.044542 -0.109731 -0.187411  0.022104      -0.005233   \n",
       "channel_freq           -0.094525  0.034134  0.011814 -0.318993      -0.038705   \n",
       "\n",
       "                             day      hour    minute    second  \\\n",
       "app                    -0.001745 -0.005837  0.004931 -0.000941   \n",
       "device                  0.006722 -0.007077 -0.000403 -0.001031   \n",
       "os                      0.007669 -0.008201 -0.001073 -0.001552   \n",
       "channel                 0.079463 -0.071021  0.013357 -0.001677   \n",
       "is_downloaded           0.000225 -0.000714  0.003877 -0.000829   \n",
       "day                     1.000000 -0.866023 -0.076775 -0.006746   \n",
       "hour                   -0.866023  1.000000  0.086723  0.006825   \n",
       "minute                 -0.076775  0.086723  1.000000 -0.069343   \n",
       "second                 -0.006746  0.006825 -0.069343  1.000000   \n",
       "clicks_by_ip_day_hr    -0.029464  0.065606  0.006743 -0.001377   \n",
       "clicks_by_ip_hr_chnl   -0.015959  0.030727  0.007289 -0.001305   \n",
       "clicks_by_ip_hr_os      0.013620  0.000015  0.001920  0.000240   \n",
       "clicks_by_ip_hr_app     0.014200  0.001225  0.004444 -0.001511   \n",
       "clicks_by_ip_hr_device  0.033923 -0.019307 -0.002286 -0.001423   \n",
       "app_freq                0.034723 -0.023790  0.022301 -0.003575   \n",
       "device_freq             0.027705 -0.036760 -0.002642 -0.001152   \n",
       "os_freq                 0.008437 -0.009570  0.002827 -0.001051   \n",
       "channel_freq           -0.060367  0.068526 -0.001650 -0.003392   \n",
       "\n",
       "                        clicks_by_ip_day_hr  clicks_by_ip_hr_chnl  \\\n",
       "app                                0.001318             -0.037514   \n",
       "device                             0.001357              0.004561   \n",
       "os                                 0.003492              0.005728   \n",
       "channel                           -0.013221             -0.080853   \n",
       "is_downloaded                     -0.006001             -0.010094   \n",
       "day                               -0.029464             -0.015959   \n",
       "hour                               0.065606              0.030727   \n",
       "minute                             0.006743              0.007289   \n",
       "second                            -0.001377             -0.001305   \n",
       "clicks_by_ip_day_hr                1.000000              0.646329   \n",
       "clicks_by_ip_hr_chnl               0.646329              1.000000   \n",
       "clicks_by_ip_hr_os                 0.688075              0.505071   \n",
       "clicks_by_ip_hr_app                0.783809              0.740605   \n",
       "clicks_by_ip_hr_device             0.888336              0.600177   \n",
       "app_freq                           0.012967              0.026062   \n",
       "device_freq                       -0.071263             -0.076572   \n",
       "os_freq                           -0.001953             -0.005549   \n",
       "channel_freq                       0.003572              0.119573   \n",
       "\n",
       "                        clicks_by_ip_hr_os  clicks_by_ip_hr_app  \\\n",
       "app                              -0.020609            -0.062875   \n",
       "device                           -0.025469            -0.009378   \n",
       "os                               -0.038954            -0.005215   \n",
       "channel                          -0.019728            -0.013609   \n",
       "is_downloaded                    -0.008493            -0.010055   \n",
       "day                               0.013620             0.014200   \n",
       "hour                              0.000015             0.001225   \n",
       "minute                            0.001920             0.004444   \n",
       "second                            0.000240            -0.001511   \n",
       "clicks_by_ip_day_hr               0.688075             0.783809   \n",
       "clicks_by_ip_hr_chnl              0.505071             0.740605   \n",
       "clicks_by_ip_hr_os                1.000000             0.595119   \n",
       "clicks_by_ip_hr_app               0.595119             1.000000   \n",
       "clicks_by_ip_hr_device            0.705689             0.765038   \n",
       "app_freq                         -0.005311             0.133967   \n",
       "device_freq                      -0.003090            -0.059925   \n",
       "os_freq                           0.183207            -0.001530   \n",
       "channel_freq                      0.020098             0.012206   \n",
       "\n",
       "                        clicks_by_ip_hr_device  app_freq  device_freq  \\\n",
       "app                                  -0.013790 -0.428591    -0.090975   \n",
       "device                               -0.027942 -0.042371    -0.435897   \n",
       "os                                   -0.023132 -0.041813    -0.392699   \n",
       "channel                              -0.000984  0.077422     0.087759   \n",
       "is_downloaded                        -0.006998 -0.059781    -0.043890   \n",
       "day                                   0.033923  0.034723     0.027705   \n",
       "hour                                 -0.019307 -0.023790    -0.036760   \n",
       "minute                               -0.002286  0.022301    -0.002642   \n",
       "second                               -0.001423 -0.003575    -0.001152   \n",
       "clicks_by_ip_day_hr                   0.888336  0.012967    -0.071263   \n",
       "clicks_by_ip_hr_chnl                  0.600177  0.026062    -0.076572   \n",
       "clicks_by_ip_hr_os                    0.705689 -0.005311    -0.003090   \n",
       "clicks_by_ip_hr_app                   0.765038  0.133967    -0.059925   \n",
       "clicks_by_ip_hr_device                1.000000  0.016534     0.048842   \n",
       "app_freq                              0.016534  1.000000     0.036887   \n",
       "device_freq                           0.048842  0.036887     1.000000   \n",
       "os_freq                               0.009198  0.016842     0.124892   \n",
       "channel_freq                         -0.000525  0.140038    -0.010120   \n",
       "\n",
       "                         os_freq  channel_freq  \n",
       "app                    -0.044542     -0.094525  \n",
       "device                 -0.109731      0.034134  \n",
       "os                     -0.187411      0.011814  \n",
       "channel                 0.022104     -0.318993  \n",
       "is_downloaded          -0.005233     -0.038705  \n",
       "day                     0.008437     -0.060367  \n",
       "hour                   -0.009570      0.068526  \n",
       "minute                  0.002827     -0.001650  \n",
       "second                 -0.001051     -0.003392  \n",
       "clicks_by_ip_day_hr    -0.001953      0.003572  \n",
       "clicks_by_ip_hr_chnl   -0.005549      0.119573  \n",
       "clicks_by_ip_hr_os      0.183207      0.020098  \n",
       "clicks_by_ip_hr_app    -0.001530      0.012206  \n",
       "clicks_by_ip_hr_device  0.009198     -0.000525  \n",
       "app_freq                0.016842      0.140038  \n",
       "device_freq             0.124892     -0.010120  \n",
       "os_freq                 1.000000     -0.004913  \n",
       "channel_freq           -0.004913      1.000000  "
      ]
     },
     "execution_count": 35,
     "metadata": {},
     "output_type": "execute_result"
    }
   ],
   "source": [
    "# Correlation\n",
    "df_ckFraud_exp2.corr()"
   ]
  },
  {
   "cell_type": "code",
   "execution_count": 36,
   "metadata": {
    "scrolled": true
   },
   "outputs": [
    {
     "data": {
      "text/plain": [
       "<matplotlib.axes._subplots.AxesSubplot at 0x7faa9a337518>"
      ]
     },
     "execution_count": 36,
     "metadata": {},
     "output_type": "execute_result"
    },
    {
     "data": {
      "image/png": "[encoded data removed]",
      "text/plain": [
       "<Figure size 720x720 with 2 Axes>"
      ]
     },
     "metadata": {
      "needs_background": "light"
     },
     "output_type": "display_data"
    }
   ],
   "source": [
    "fig, ax = plt.subplots(figsize=(10, 10))\n",
    "sns.heatmap(df_ckFraud_exp2.corr(), linewidth=.5, ax=ax)"
   ]
  },
  {
   "cell_type": "markdown",
   "metadata": {},
   "source": [
    "## Running Experiments\n",
    "\n",
    "To understand the significance of feedback loop, we will train tree-based model (XGBoost) to predict the probability that an ad click (related to an app) results in app download:\n",
    "* Experiment 1: Train on click data for Monday and Tuesday and predict/score portion of the clicks from Thursday (clicks from later part of the day)\n",
    "* Experiment 2: Let’s assume that we have more data available in data lake environment to retrain the classification model. We will train on click data for Monday, Tuesday, & Wednesday and predict/score portion of the clicks from Thursday\n",
    "* Experiment 3: Similarly, we will train on click data for Monday, Tuesday, Wednesday & part of Thursday and predict/score portion of the clicks from Thursday\n"
   ]
  },
  {
   "cell_type": "markdown",
   "metadata": {},
   "source": [
    "Set current experiment: Fit the classification model for each of the experiments, host the trained model and run inferences. For each of the three experiments, run \"create train, validation and test\" and \"training\" sections"
   ]
  },
  {
   "cell_type": "code",
   "execution_count": 23,
   "metadata": {},
   "outputs": [
    {
     "data": {
      "text/html": [
       "<div>\n",
       "<style scoped>\n",
       "    .dataframe tbody tr th:only-of-type {\n",
       "        vertical-align: middle;\n",
       "    }\n",
       "\n",
       "    .dataframe tbody tr th {\n",
       "        vertical-align: top;\n",
       "    }\n",
       "\n",
       "    .dataframe thead th {\n",
       "        text-align: right;\n",
       "    }\n",
       "</style>\n",
       "<table border=\"1\" class=\"dataframe\">\n",
       "  <thead>\n",
       "    <tr style=\"text-align: right;\">\n",
       "      <th></th>\n",
       "      <th>app</th>\n",
       "      <th>device</th>\n",
       "      <th>os</th>\n",
       "      <th>channel</th>\n",
       "      <th>is_downloaded</th>\n",
       "      <th>day</th>\n",
       "      <th>hour</th>\n",
       "      <th>minute</th>\n",
       "      <th>second</th>\n",
       "      <th>clicks_by_ip_day_hr</th>\n",
       "      <th>clicks_by_ip_hr_chnl</th>\n",
       "      <th>clicks_by_ip_hr_os</th>\n",
       "      <th>clicks_by_ip_hr_app</th>\n",
       "      <th>clicks_by_ip_hr_device</th>\n",
       "      <th>app_freq</th>\n",
       "      <th>device_freq</th>\n",
       "      <th>os_freq</th>\n",
       "      <th>channel_freq</th>\n",
       "    </tr>\n",
       "  </thead>\n",
       "  <tbody>\n",
       "    <tr>\n",
       "      <th>599995</th>\n",
       "      <td>61</td>\n",
       "      <td>1</td>\n",
       "      <td>16</td>\n",
       "      <td>147</td>\n",
       "      <td>0</td>\n",
       "      <td>2</td>\n",
       "      <td>16</td>\n",
       "      <td>12</td>\n",
       "      <td>17</td>\n",
       "      <td>112</td>\n",
       "      <td>3</td>\n",
       "      <td>3</td>\n",
       "      <td>2</td>\n",
       "      <td>98</td>\n",
       "      <td>0.012868</td>\n",
       "      <td>0.93571</td>\n",
       "      <td>0.018125</td>\n",
       "      <td>0.021568</td>\n",
       "    </tr>\n",
       "    <tr>\n",
       "      <th>599996</th>\n",
       "      <td>9</td>\n",
       "      <td>1</td>\n",
       "      <td>22</td>\n",
       "      <td>35</td>\n",
       "      <td>0</td>\n",
       "      <td>2</td>\n",
       "      <td>16</td>\n",
       "      <td>12</td>\n",
       "      <td>17</td>\n",
       "      <td>24</td>\n",
       "      <td>2</td>\n",
       "      <td>1</td>\n",
       "      <td>4</td>\n",
       "      <td>20</td>\n",
       "      <td>0.116657</td>\n",
       "      <td>0.93571</td>\n",
       "      <td>0.036277</td>\n",
       "      <td>0.085962</td>\n",
       "    </tr>\n",
       "    <tr>\n",
       "      <th>599997</th>\n",
       "      <td>28</td>\n",
       "      <td>1</td>\n",
       "      <td>6</td>\n",
       "      <td>36</td>\n",
       "      <td>0</td>\n",
       "      <td>2</td>\n",
       "      <td>16</td>\n",
       "      <td>12</td>\n",
       "      <td>17</td>\n",
       "      <td>35</td>\n",
       "      <td>3</td>\n",
       "      <td>7</td>\n",
       "      <td>1</td>\n",
       "      <td>35</td>\n",
       "      <td>0.004857</td>\n",
       "      <td>0.93571</td>\n",
       "      <td>0.025397</td>\n",
       "      <td>0.016295</td>\n",
       "    </tr>\n",
       "    <tr>\n",
       "      <th>599998</th>\n",
       "      <td>61</td>\n",
       "      <td>1</td>\n",
       "      <td>13</td>\n",
       "      <td>147</td>\n",
       "      <td>0</td>\n",
       "      <td>2</td>\n",
       "      <td>16</td>\n",
       "      <td>12</td>\n",
       "      <td>17</td>\n",
       "      <td>38</td>\n",
       "      <td>1</td>\n",
       "      <td>2</td>\n",
       "      <td>1</td>\n",
       "      <td>37</td>\n",
       "      <td>0.012868</td>\n",
       "      <td>0.93571</td>\n",
       "      <td>0.221382</td>\n",
       "      <td>0.021568</td>\n",
       "    </tr>\n",
       "    <tr>\n",
       "      <th>599999</th>\n",
       "      <td>15</td>\n",
       "      <td>1</td>\n",
       "      <td>25</td>\n",
       "      <td>71</td>\n",
       "      <td>0</td>\n",
       "      <td>2</td>\n",
       "      <td>16</td>\n",
       "      <td>12</td>\n",
       "      <td>17</td>\n",
       "      <td>23</td>\n",
       "      <td>7</td>\n",
       "      <td>3</td>\n",
       "      <td>5</td>\n",
       "      <td>23</td>\n",
       "      <td>0.112660</td>\n",
       "      <td>0.93571</td>\n",
       "      <td>0.023993</td>\n",
       "      <td>0.087570</td>\n",
       "    </tr>\n",
       "  </tbody>\n",
       "</table>\n",
       "</div>"
      ],
      "text/plain": [
       "        app  device  os  channel  is_downloaded  day  hour  minute  second  \\\n",
       "599995   61       1  16      147              0    2    16      12      17   \n",
       "599996    9       1  22       35              0    2    16      12      17   \n",
       "599997   28       1   6       36              0    2    16      12      17   \n",
       "599998   61       1  13      147              0    2    16      12      17   \n",
       "599999   15       1  25       71              0    2    16      12      17   \n",
       "\n",
       "        clicks_by_ip_day_hr  clicks_by_ip_hr_chnl  clicks_by_ip_hr_os  \\\n",
       "599995                  112                     3                   3   \n",
       "599996                   24                     2                   1   \n",
       "599997                   35                     3                   7   \n",
       "599998                   38                     1                   2   \n",
       "599999                   23                     7                   3   \n",
       "\n",
       "        clicks_by_ip_hr_app  clicks_by_ip_hr_device  app_freq  device_freq  \\\n",
       "599995                    2                      98  0.012868      0.93571   \n",
       "599996                    4                      20  0.116657      0.93571   \n",
       "599997                    1                      35  0.004857      0.93571   \n",
       "599998                    1                      37  0.012868      0.93571   \n",
       "599999                    5                      23  0.112660      0.93571   \n",
       "\n",
       "         os_freq  channel_freq  \n",
       "599995  0.018125      0.021568  \n",
       "599996  0.036277      0.085962  \n",
       "599997  0.025397      0.016295  \n",
       "599998  0.221382      0.021568  \n",
       "599999  0.023993      0.087570  "
      ]
     },
     "execution_count": 23,
     "metadata": {},
     "output_type": "execute_result"
    }
   ],
   "source": [
    "df_ckFraud_exp1.tail()\n",
    "#len(df_ckFraud_exp1)\n",
    "#len(df_ckFraud_exp2)\n",
    "#len(df_ckFraud_exp3)"
   ]
  },
  {
   "cell_type": "code",
   "execution_count": 58,
   "metadata": {},
   "outputs": [],
   "source": [
    "# Experiment 3\n",
    "current_experiment = df_ckFraud_exp3 \n",
    "exp_prefix = 'exp3' \n",
    "\n",
    "# # Experiment 2\n",
    "# current_experiment = df_ckFraud_exp2\n",
    "# exp_prefix = 'exp2' \n",
    "\n",
    "# # Experiment 1\n",
    "# current_experiment = df_ckFraud_exp1\n",
    "# exp_prefix = 'exp1'\n"
   ]
  },
  {
   "cell_type": "markdown",
   "metadata": {},
   "source": [
    "### Create train, validation and test datasets"
   ]
  },
  {
   "cell_type": "code",
   "execution_count": 59,
   "metadata": {},
   "outputs": [
    {
     "name": "stdout",
     "output_type": "stream",
     "text": [
      "Click-Fraud/train/exp2/train_ckFraud.csv\n"
     ]
    }
   ],
   "source": [
    "print(s3_train_prefix + '/' + exp_prefix + '/train_ckFraud.csv')"
   ]
  },
  {
   "cell_type": "markdown",
   "metadata": {},
   "source": [
    "Create test dataset - last 5% of clicks from Thursday. The same test dataset is used across all the three experiments"
   ]
  },
  {
   "cell_type": "code",
   "execution_count": 60,
   "metadata": {},
   "outputs": [],
   "source": [
    "# Create test dataset\n",
    "# Sort by hour, minute and second --> pick the last 5% (120,000 records)\n",
    "test_data = df_ckFraud_exp3.sort_values(['day', 'hour', 'minute', 'second'], ascending=False).head(n=120000)\n",
    "# Rearrange test data so that is_downloaded is the first column\n",
    "test_data = pd.concat([test_data['is_downloaded'], test_data.drop(['is_downloaded'], axis=1)], axis=1) \n",
    "\n",
    "\n",
    "# Create new dataset for experiment 3 (this excludes data from test dataset)\n",
    "df_ckFraud_fil_exp3 = df_ckFraud_exp3.sort_values(['day', 'hour', 'minute', 'second'], ascending=True).head(n=2280000)"
   ]
  },
  {
   "cell_type": "markdown",
   "metadata": {},
   "source": [
    "#### Only for experiment # 3\n",
    "Since df_ckFraud_fil_exp3 has changed"
   ]
  },
  {
   "cell_type": "code",
   "execution_count": 41,
   "metadata": {},
   "outputs": [],
   "source": [
    "if exp_prefix=='exp3':\n",
    "    current_experiment = df_ckFraud_fil_exp3"
   ]
  },
  {
   "cell_type": "code",
   "execution_count": 61,
   "metadata": {},
   "outputs": [],
   "source": [
    "# Create dataset in a format required by XGBoost\n",
    "current_experiment = pd.concat([current_experiment['is_downloaded'], current_experiment.drop(['is_downloaded'], axis=1)], axis=1) "
   ]
  },
  {
   "cell_type": "code",
   "execution_count": 62,
   "metadata": {},
   "outputs": [
    {
     "data": {
      "text/html": [
       "<div>\n",
       "<style scoped>\n",
       "    .dataframe tbody tr th:only-of-type {\n",
       "        vertical-align: middle;\n",
       "    }\n",
       "\n",
       "    .dataframe tbody tr th {\n",
       "        vertical-align: top;\n",
       "    }\n",
       "\n",
       "    .dataframe thead th {\n",
       "        text-align: right;\n",
       "    }\n",
       "</style>\n",
       "<table border=\"1\" class=\"dataframe\">\n",
       "  <thead>\n",
       "    <tr style=\"text-align: right;\">\n",
       "      <th></th>\n",
       "      <th>is_downloaded</th>\n",
       "      <th>app</th>\n",
       "      <th>device</th>\n",
       "      <th>os</th>\n",
       "      <th>channel</th>\n",
       "      <th>day</th>\n",
       "      <th>hour</th>\n",
       "      <th>minute</th>\n",
       "      <th>second</th>\n",
       "      <th>clicks_by_ip_day_hr</th>\n",
       "      <th>clicks_by_ip_hr_chnl</th>\n",
       "      <th>clicks_by_ip_hr_os</th>\n",
       "      <th>clicks_by_ip_hr_app</th>\n",
       "      <th>clicks_by_ip_hr_device</th>\n",
       "      <th>app_freq</th>\n",
       "      <th>device_freq</th>\n",
       "      <th>os_freq</th>\n",
       "      <th>channel_freq</th>\n",
       "    </tr>\n",
       "  </thead>\n",
       "  <tbody>\n",
       "    <tr>\n",
       "      <th>0</th>\n",
       "      <td>0</td>\n",
       "      <td>3</td>\n",
       "      <td>1</td>\n",
       "      <td>13</td>\n",
       "      <td>114</td>\n",
       "      <td>2</td>\n",
       "      <td>14</td>\n",
       "      <td>32</td>\n",
       "      <td>21</td>\n",
       "      <td>1</td>\n",
       "      <td>1</td>\n",
       "      <td>1</td>\n",
       "      <td>1</td>\n",
       "      <td>1</td>\n",
       "      <td>0.169171</td>\n",
       "      <td>0.947446</td>\n",
       "      <td>0.221243</td>\n",
       "      <td>0.015468</td>\n",
       "    </tr>\n",
       "    <tr>\n",
       "      <th>1</th>\n",
       "      <td>0</td>\n",
       "      <td>3</td>\n",
       "      <td>1</td>\n",
       "      <td>19</td>\n",
       "      <td>114</td>\n",
       "      <td>2</td>\n",
       "      <td>14</td>\n",
       "      <td>33</td>\n",
       "      <td>34</td>\n",
       "      <td>1</td>\n",
       "      <td>1</td>\n",
       "      <td>1</td>\n",
       "      <td>1</td>\n",
       "      <td>1</td>\n",
       "      <td>0.169171</td>\n",
       "      <td>0.947446</td>\n",
       "      <td>0.247792</td>\n",
       "      <td>0.015468</td>\n",
       "    </tr>\n",
       "    <tr>\n",
       "      <th>2</th>\n",
       "      <td>0</td>\n",
       "      <td>3</td>\n",
       "      <td>1</td>\n",
       "      <td>13</td>\n",
       "      <td>114</td>\n",
       "      <td>2</td>\n",
       "      <td>14</td>\n",
       "      <td>34</td>\n",
       "      <td>12</td>\n",
       "      <td>1</td>\n",
       "      <td>1</td>\n",
       "      <td>1</td>\n",
       "      <td>1</td>\n",
       "      <td>1</td>\n",
       "      <td>0.169171</td>\n",
       "      <td>0.947446</td>\n",
       "      <td>0.221243</td>\n",
       "      <td>0.015468</td>\n",
       "    </tr>\n",
       "    <tr>\n",
       "      <th>3</th>\n",
       "      <td>0</td>\n",
       "      <td>14</td>\n",
       "      <td>1</td>\n",
       "      <td>13</td>\n",
       "      <td>155</td>\n",
       "      <td>2</td>\n",
       "      <td>14</td>\n",
       "      <td>34</td>\n",
       "      <td>52</td>\n",
       "      <td>1</td>\n",
       "      <td>1</td>\n",
       "      <td>1</td>\n",
       "      <td>1</td>\n",
       "      <td>1</td>\n",
       "      <td>0.052469</td>\n",
       "      <td>0.947446</td>\n",
       "      <td>0.221243</td>\n",
       "      <td>0.002359</td>\n",
       "    </tr>\n",
       "    <tr>\n",
       "      <th>4</th>\n",
       "      <td>0</td>\n",
       "      <td>3</td>\n",
       "      <td>1</td>\n",
       "      <td>13</td>\n",
       "      <td>114</td>\n",
       "      <td>2</td>\n",
       "      <td>14</td>\n",
       "      <td>35</td>\n",
       "      <td>8</td>\n",
       "      <td>1</td>\n",
       "      <td>1</td>\n",
       "      <td>1</td>\n",
       "      <td>1</td>\n",
       "      <td>1</td>\n",
       "      <td>0.169171</td>\n",
       "      <td>0.947446</td>\n",
       "      <td>0.221243</td>\n",
       "      <td>0.015468</td>\n",
       "    </tr>\n",
       "  </tbody>\n",
       "</table>\n",
       "</div>"
      ],
      "text/plain": [
       "   is_downloaded  app  device  os  channel  day  hour  minute  second  \\\n",
       "0              0    3       1  13      114    2    14      32      21   \n",
       "1              0    3       1  19      114    2    14      33      34   \n",
       "2              0    3       1  13      114    2    14      34      12   \n",
       "3              0   14       1  13      155    2    14      34      52   \n",
       "4              0    3       1  13      114    2    14      35       8   \n",
       "\n",
       "   clicks_by_ip_day_hr  clicks_by_ip_hr_chnl  clicks_by_ip_hr_os  \\\n",
       "0                    1                     1                   1   \n",
       "1                    1                     1                   1   \n",
       "2                    1                     1                   1   \n",
       "3                    1                     1                   1   \n",
       "4                    1                     1                   1   \n",
       "\n",
       "   clicks_by_ip_hr_app  clicks_by_ip_hr_device  app_freq  device_freq  \\\n",
       "0                    1                       1  0.169171     0.947446   \n",
       "1                    1                       1  0.169171     0.947446   \n",
       "2                    1                       1  0.169171     0.947446   \n",
       "3                    1                       1  0.052469     0.947446   \n",
       "4                    1                       1  0.169171     0.947446   \n",
       "\n",
       "    os_freq  channel_freq  \n",
       "0  0.221243      0.015468  \n",
       "1  0.247792      0.015468  \n",
       "2  0.221243      0.015468  \n",
       "3  0.221243      0.002359  \n",
       "4  0.221243      0.015468  "
      ]
     },
     "execution_count": 62,
     "metadata": {},
     "output_type": "execute_result"
    }
   ],
   "source": [
    "current_experiment.head()"
   ]
  },
  {
   "cell_type": "code",
   "execution_count": 63,
   "metadata": {},
   "outputs": [
    {
     "data": {
      "text/plain": [
       "4"
      ]
     },
     "execution_count": 63,
     "metadata": {},
     "output_type": "execute_result"
    }
   ],
   "source": [
    "current_experiment['day'].max()"
   ]
  },
  {
   "cell_type": "code",
   "execution_count": 64,
   "metadata": {},
   "outputs": [
    {
     "data": {
      "text/plain": [
       "(1800000, 18)"
      ]
     },
     "execution_count": 64,
     "metadata": {},
     "output_type": "execute_result"
    }
   ],
   "source": [
    "current_experiment.shape"
   ]
  },
  {
   "cell_type": "code",
   "execution_count": 65,
   "metadata": {
    "scrolled": true
   },
   "outputs": [],
   "source": [
    "# Create train (80%), validation (20%) datasets\n",
    "\n",
    "train_data, validation_data = np.split(current_experiment.sample(frac=1, random_state=4567), [int(0.8 * len(current_experiment))])\n",
    "\n",
    "# Save training and validation csv to local sagemaker instance\n",
    "# \n",
    "train_data.to_csv(sm_train_loc + 'train_ckFraud.csv', header=False, index=False)\n",
    "validation_data.to_csv(sm_val_loc + 'val_ckFraud.csv', header=False, index=False)\n",
    "\n",
    "# Upload csv to S3 bucket\n",
    "upload_to_s3(s3_bucket, s3_train_prefix + '/' + exp_prefix + '/train_ckFraud.csv', sm_train_loc + 'train_ckFraud.csv')\n",
    "upload_to_s3(s3_bucket, s3_val_prefix + '/' + exp_prefix + '/val_ckFraud.csv', sm_val_loc + 'val_ckFraud.csv')"
   ]
  },
  {
   "cell_type": "code",
   "execution_count": 47,
   "metadata": {},
   "outputs": [
    {
     "data": {
      "text/html": [
       "<div>\n",
       "<style scoped>\n",
       "    .dataframe tbody tr th:only-of-type {\n",
       "        vertical-align: middle;\n",
       "    }\n",
       "\n",
       "    .dataframe tbody tr th {\n",
       "        vertical-align: top;\n",
       "    }\n",
       "\n",
       "    .dataframe thead th {\n",
       "        text-align: right;\n",
       "    }\n",
       "</style>\n",
       "<table border=\"1\" class=\"dataframe\">\n",
       "  <thead>\n",
       "    <tr style=\"text-align: right;\">\n",
       "      <th></th>\n",
       "      <th>app</th>\n",
       "      <th>device</th>\n",
       "      <th>os</th>\n",
       "      <th>channel</th>\n",
       "      <th>is_downloaded</th>\n",
       "      <th>hour</th>\n",
       "      <th>minute</th>\n",
       "      <th>second</th>\n",
       "      <th>clicks_by_ip_day_hr</th>\n",
       "      <th>clicks_by_ip_hr_chnl</th>\n",
       "      <th>clicks_by_ip_hr_os</th>\n",
       "      <th>clicks_by_ip_hr_app</th>\n",
       "      <th>clicks_by_ip_hr_device</th>\n",
       "      <th>app_freq</th>\n",
       "      <th>device_freq</th>\n",
       "      <th>os_freq</th>\n",
       "      <th>channel_freq</th>\n",
       "    </tr>\n",
       "    <tr>\n",
       "      <th>day</th>\n",
       "      <th></th>\n",
       "      <th></th>\n",
       "      <th></th>\n",
       "      <th></th>\n",
       "      <th></th>\n",
       "      <th></th>\n",
       "      <th></th>\n",
       "      <th></th>\n",
       "      <th></th>\n",
       "      <th></th>\n",
       "      <th></th>\n",
       "      <th></th>\n",
       "      <th></th>\n",
       "      <th></th>\n",
       "      <th></th>\n",
       "      <th></th>\n",
       "      <th></th>\n",
       "    </tr>\n",
       "  </thead>\n",
       "  <tbody>\n",
       "    <tr>\n",
       "      <th>2</th>\n",
       "      <td>600000</td>\n",
       "      <td>600000</td>\n",
       "      <td>600000</td>\n",
       "      <td>600000</td>\n",
       "      <td>600000</td>\n",
       "      <td>600000</td>\n",
       "      <td>600000</td>\n",
       "      <td>600000</td>\n",
       "      <td>600000</td>\n",
       "      <td>600000</td>\n",
       "      <td>600000</td>\n",
       "      <td>600000</td>\n",
       "      <td>600000</td>\n",
       "      <td>600000</td>\n",
       "      <td>600000</td>\n",
       "      <td>600000</td>\n",
       "      <td>600000</td>\n",
       "    </tr>\n",
       "    <tr>\n",
       "      <th>3</th>\n",
       "      <td>600000</td>\n",
       "      <td>600000</td>\n",
       "      <td>600000</td>\n",
       "      <td>600000</td>\n",
       "      <td>600000</td>\n",
       "      <td>600000</td>\n",
       "      <td>600000</td>\n",
       "      <td>600000</td>\n",
       "      <td>600000</td>\n",
       "      <td>600000</td>\n",
       "      <td>600000</td>\n",
       "      <td>600000</td>\n",
       "      <td>600000</td>\n",
       "      <td>600000</td>\n",
       "      <td>600000</td>\n",
       "      <td>600000</td>\n",
       "      <td>600000</td>\n",
       "    </tr>\n",
       "    <tr>\n",
       "      <th>4</th>\n",
       "      <td>600000</td>\n",
       "      <td>600000</td>\n",
       "      <td>600000</td>\n",
       "      <td>600000</td>\n",
       "      <td>600000</td>\n",
       "      <td>600000</td>\n",
       "      <td>600000</td>\n",
       "      <td>600000</td>\n",
       "      <td>600000</td>\n",
       "      <td>600000</td>\n",
       "      <td>600000</td>\n",
       "      <td>600000</td>\n",
       "      <td>600000</td>\n",
       "      <td>600000</td>\n",
       "      <td>600000</td>\n",
       "      <td>600000</td>\n",
       "      <td>600000</td>\n",
       "    </tr>\n",
       "    <tr>\n",
       "      <th>5</th>\n",
       "      <td>480000</td>\n",
       "      <td>480000</td>\n",
       "      <td>480000</td>\n",
       "      <td>480000</td>\n",
       "      <td>480000</td>\n",
       "      <td>480000</td>\n",
       "      <td>480000</td>\n",
       "      <td>480000</td>\n",
       "      <td>480000</td>\n",
       "      <td>480000</td>\n",
       "      <td>480000</td>\n",
       "      <td>480000</td>\n",
       "      <td>480000</td>\n",
       "      <td>480000</td>\n",
       "      <td>480000</td>\n",
       "      <td>480000</td>\n",
       "      <td>480000</td>\n",
       "    </tr>\n",
       "  </tbody>\n",
       "</table>\n",
       "</div>"
      ],
      "text/plain": [
       "        app  device      os  channel  is_downloaded    hour  minute  second  \\\n",
       "day                                                                           \n",
       "2    600000  600000  600000   600000         600000  600000  600000  600000   \n",
       "3    600000  600000  600000   600000         600000  600000  600000  600000   \n",
       "4    600000  600000  600000   600000         600000  600000  600000  600000   \n",
       "5    480000  480000  480000   480000         480000  480000  480000  480000   \n",
       "\n",
       "     clicks_by_ip_day_hr  clicks_by_ip_hr_chnl  clicks_by_ip_hr_os  \\\n",
       "day                                                                  \n",
       "2                 600000                600000              600000   \n",
       "3                 600000                600000              600000   \n",
       "4                 600000                600000              600000   \n",
       "5                 480000                480000              480000   \n",
       "\n",
       "     clicks_by_ip_hr_app  clicks_by_ip_hr_device  app_freq  device_freq  \\\n",
       "day                                                                       \n",
       "2                 600000                  600000    600000       600000   \n",
       "3                 600000                  600000    600000       600000   \n",
       "4                 600000                  600000    600000       600000   \n",
       "5                 480000                  480000    480000       480000   \n",
       "\n",
       "     os_freq  channel_freq  \n",
       "day                         \n",
       "2     600000        600000  \n",
       "3     600000        600000  \n",
       "4     600000        600000  \n",
       "5     480000        480000  "
      ]
     },
     "execution_count": 47,
     "metadata": {},
     "output_type": "execute_result"
    }
   ],
   "source": [
    "df_ckFraud_fil_exp3.groupby('day').count()"
   ]
  },
  {
   "cell_type": "code",
   "execution_count": 66,
   "metadata": {},
   "outputs": [
    {
     "name": "stderr",
     "output_type": "stream",
     "text": [
      "WARNING:sagemaker:'s3_input' class will be renamed to 'TrainingInput' in SageMaker Python SDK v2.\n",
      "WARNING:sagemaker:'s3_input' class will be renamed to 'TrainingInput' in SageMaker Python SDK v2.\n"
     ]
    }
   ],
   "source": [
    "s3_input_train = sagemaker.s3_input(s3_data='s3://{}/{}/train/{}/{}'.format(s3_bucket, s3_prefix, exp_prefix, 'train_ckFraud.csv'), content_type='csv')\n",
    "s3_input_validation = sagemaker.s3_input(s3_data='s3://{}/{}/val/{}/{}'.format(s3_bucket, s3_prefix, exp_prefix, 'val_ckFraud.csv'), content_type='csv')"
   ]
  },
  {
   "cell_type": "code",
   "execution_count": 67,
   "metadata": {},
   "outputs": [
    {
     "name": "stdout",
     "output_type": "stream",
     "text": [
      "s3://notebook-ch12.junho.her/Click-Fraud/val/exp2/val_ckFraud.csv\n"
     ]
    }
   ],
   "source": [
    "print('s3://{}/{}/val/{}/{}'.format(s3_bucket, s3_prefix, exp_prefix, 'val_ckFraud.csv'))"
   ]
  },
  {
   "cell_type": "markdown",
   "metadata": {},
   "source": [
    "Get XGBoost SageMaker Training Image"
   ]
  },
  {
   "cell_type": "code",
   "execution_count": 68,
   "metadata": {},
   "outputs": [
    {
     "name": "stderr",
     "output_type": "stream",
     "text": [
      "WARNING:sagemaker.amazon.amazon_estimator:'get_image_uri' method will be deprecated in favor of 'ImageURIProvider' class in SageMaker Python SDK v2.\n",
      "WARNING:root:There is a more up to date SageMaker XGBoost image. To use the newer image, please set 'repo_version'='1.0-1'. For example:\n",
      "\tget_image_uri(region, 'xgboost', '1.0-1').\n"
     ]
    }
   ],
   "source": [
    "sess = sagemaker.Session()\n",
    "role = get_execution_role()\n",
    "\n",
    "#Get docker image for the XGBoost algorithm\n",
    "container = get_image_uri(boto3.Session().region_name, 'xgboost', repo_version='0.90') #input: region name, name of the algorithm & '0.90-1' is added by junho"
   ]
  },
  {
   "cell_type": "markdown",
   "metadata": {},
   "source": [
    "### Training"
   ]
  },
  {
   "cell_type": "code",
   "execution_count": 69,
   "metadata": {},
   "outputs": [],
   "source": [
    "# Unbalanced data\n",
    "num_positives = current_experiment.groupby('is_downloaded').size()[1]\n",
    "num_negatives = current_experiment.groupby('is_downloaded').size()[0]\n",
    "\n",
    "scale_pos_weight = 100 - (num_positives / (num_positives + num_negatives)) * 100 # **number of positive samples** / **total samples** "
   ]
  },
  {
   "cell_type": "code",
   "execution_count": 70,
   "metadata": {},
   "outputs": [
    {
     "data": {
      "text/plain": [
       "99.82038888888889"
      ]
     },
     "execution_count": 70,
     "metadata": {},
     "output_type": "execute_result"
    }
   ],
   "source": [
    "scale_pos_weight "
   ]
  },
  {
   "cell_type": "code",
   "execution_count": 71,
   "metadata": {},
   "outputs": [
    {
     "name": "stderr",
     "output_type": "stream",
     "text": [
      "WARNING:root:Parameter image_name will be renamed to image_uri in SageMaker Python SDK v2.\n"
     ]
    },
    {
     "name": "stdout",
     "output_type": "stream",
     "text": [
      "2020-07-13 08:33:25 Starting - Starting the training job...\n",
      "2020-07-13 08:33:27 Starting - Launching requested ML instances......\n",
      "2020-07-13 08:34:43 Starting - Preparing the instances for training......\n",
      "2020-07-13 08:35:38 Downloading - Downloading input data...\n",
      "2020-07-13 08:36:02 Training - Downloading the training image..\u001b[34mINFO:sagemaker-containers:Imported framework sagemaker_xgboost_container.training\u001b[0m\n",
      "\u001b[34mINFO:sagemaker-containers:Failed to parse hyperparameter objective value binary:logistic to Json.\u001b[0m\n",
      "\u001b[34mReturning the value itself\u001b[0m\n",
      "\u001b[34mINFO:sagemaker-containers:No GPUs detected (normal if no gpus installed)\u001b[0m\n",
      "\u001b[34mINFO:sagemaker_xgboost_container.training:Running XGBoost Sagemaker in algorithm mode\u001b[0m\n",
      "\u001b[34mINFO:root:Determined delimiter of CSV input is ','\u001b[0m\n",
      "\u001b[34mINFO:root:Determined delimiter of CSV input is ','\u001b[0m\n",
      "\u001b[34mINFO:root:Determined delimiter of CSV input is ','\u001b[0m\n",
      "\u001b[34m[08:36:31] 1440000x17 matrix with 24480000 entries loaded from /opt/ml/input/data/train?format=csv&label_column=0&delimiter=,\u001b[0m\n",
      "\u001b[34mINFO:root:Determined delimiter of CSV input is ','\u001b[0m\n",
      "\u001b[34m[08:36:31] 360000x17 matrix with 6120000 entries loaded from /opt/ml/input/data/validation?format=csv&label_column=0&delimiter=,\u001b[0m\n",
      "\u001b[34mINFO:root:Single node training.\u001b[0m\n",
      "\u001b[34mINFO:root:Train matrix has 1440000 rows\u001b[0m\n",
      "\u001b[34mINFO:root:Validation matrix has 360000 rows\u001b[0m\n",
      "\u001b[34m[0]#011train-error:0.01568#011validation-error:0.016183\u001b[0m\n",
      "\u001b[34m[1]#011train-error:0.00935#011validation-error:0.009678\u001b[0m\n",
      "\u001b[34m[2]#011train-error:0.012119#011validation-error:0.012567\u001b[0m\n",
      "\u001b[34m[3]#011train-error:0.011777#011validation-error:0.012242\u001b[0m\n",
      "\u001b[34m[4]#011train-error:0.011916#011validation-error:0.012358\u001b[0m\n",
      "\u001b[34m[5]#011train-error:0.009825#011validation-error:0.010208\u001b[0m\n",
      "\u001b[34m[6]#011train-error:0.00959#011validation-error:0.009947\u001b[0m\n",
      "\u001b[34m[7]#011train-error:0.009622#011validation-error:0.009981\u001b[0m\n",
      "\u001b[34m[8]#011train-error:0.009669#011validation-error:0.009992\u001b[0m\n",
      "\u001b[34m[9]#011train-error:0.009715#011validation-error:0.010058\u001b[0m\n",
      "\u001b[34m[10]#011train-error:0.00979#011validation-error:0.010119\u001b[0m\n",
      "\u001b[34m[11]#011train-error:0.009745#011validation-error:0.0101\u001b[0m\n",
      "\u001b[34m[12]#011train-error:0.009699#011validation-error:0.010044\u001b[0m\n",
      "\u001b[34m[13]#011train-error:0.010744#011validation-error:0.011008\u001b[0m\n",
      "\n",
      "2020-07-13 08:36:28 Training - Training image download completed. Training in progress.\u001b[34m[14]#011train-error:0.011051#011validation-error:0.011392\u001b[0m\n",
      "\u001b[34m[15]#011train-error:0.010933#011validation-error:0.011267\u001b[0m\n",
      "\u001b[34m[16]#011train-error:0.010909#011validation-error:0.011222\u001b[0m\n",
      "\u001b[34m[17]#011train-error:0.010701#011validation-error:0.011039\u001b[0m\n",
      "\u001b[34m[18]#011train-error:0.011262#011validation-error:0.011664\u001b[0m\n",
      "\u001b[34m[19]#011train-error:0.011323#011validation-error:0.011642\u001b[0m\n",
      "\u001b[34m[20]#011train-error:0.011507#011validation-error:0.011819\u001b[0m\n",
      "\u001b[34m[21]#011train-error:0.011136#011validation-error:0.011375\u001b[0m\n",
      "\u001b[34m[22]#011train-error:0.010994#011validation-error:0.011244\u001b[0m\n",
      "\u001b[34m[23]#011train-error:0.011122#011validation-error:0.011328\u001b[0m\n",
      "\u001b[34m[24]#011train-error:0.011195#011validation-error:0.011369\u001b[0m\n",
      "\u001b[34m[25]#011train-error:0.011101#011validation-error:0.011219\u001b[0m\n",
      "\u001b[34m[26]#011train-error:0.011087#011validation-error:0.011192\u001b[0m\n",
      "\u001b[34m[27]#011train-error:0.011027#011validation-error:0.011139\u001b[0m\n",
      "\u001b[34m[28]#011train-error:0.01095#011validation-error:0.011006\u001b[0m\n",
      "\u001b[34m[29]#011train-error:0.010732#011validation-error:0.010828\u001b[0m\n",
      "\u001b[34m[30]#011train-error:0.010741#011validation-error:0.010847\u001b[0m\n",
      "\u001b[34m[31]#011train-error:0.010769#011validation-error:0.010856\u001b[0m\n",
      "\u001b[34m[32]#011train-error:0.010765#011validation-error:0.010869\u001b[0m\n",
      "\u001b[34m[33]#011train-error:0.010684#011validation-error:0.010767\u001b[0m\n",
      "\u001b[34m[34]#011train-error:0.01066#011validation-error:0.0108\u001b[0m\n",
      "\u001b[34m[35]#011train-error:0.010813#011validation-error:0.010933\u001b[0m\n",
      "\u001b[34m[36]#011train-error:0.010782#011validation-error:0.010872\u001b[0m\n",
      "\u001b[34m[37]#011train-error:0.010835#011validation-error:0.010908\u001b[0m\n",
      "\u001b[34m[38]#011train-error:0.010842#011validation-error:0.010919\u001b[0m\n",
      "\u001b[34m[39]#011train-error:0.010701#011validation-error:0.010797\u001b[0m\n",
      "\u001b[34m[40]#011train-error:0.010767#011validation-error:0.010892\u001b[0m\n",
      "\u001b[34m[41]#011train-error:0.010741#011validation-error:0.010825\u001b[0m\n",
      "\u001b[34m[42]#011train-error:0.010734#011validation-error:0.010831\u001b[0m\n",
      "\u001b[34m[43]#011train-error:0.01074#011validation-error:0.010833\u001b[0m\n",
      "\u001b[34m[44]#011train-error:0.010731#011validation-error:0.010817\u001b[0m\n",
      "\u001b[34m[45]#011train-error:0.010556#011validation-error:0.010569\u001b[0m\n",
      "\u001b[34m[46]#011train-error:0.010492#011validation-error:0.010472\u001b[0m\n",
      "\u001b[34m[47]#011train-error:0.010404#011validation-error:0.010386\u001b[0m\n",
      "\u001b[34m[48]#011train-error:0.010436#011validation-error:0.010422\u001b[0m\n",
      "\u001b[34m[49]#011train-error:0.010465#011validation-error:0.010442\u001b[0m\n",
      "\u001b[34m[50]#011train-error:0.010568#011validation-error:0.010583\u001b[0m\n",
      "\u001b[34m[51]#011train-error:0.010578#011validation-error:0.010525\u001b[0m\n",
      "\u001b[34m[52]#011train-error:0.010583#011validation-error:0.010531\u001b[0m\n",
      "\u001b[34m[53]#011train-error:0.010507#011validation-error:0.010511\u001b[0m\n",
      "\u001b[34m[54]#011train-error:0.010533#011validation-error:0.010544\u001b[0m\n",
      "\u001b[34m[55]#011train-error:0.010558#011validation-error:0.010572\u001b[0m\n",
      "\u001b[34m[56]#011train-error:0.010476#011validation-error:0.010478\u001b[0m\n",
      "\u001b[34m[57]#011train-error:0.010355#011validation-error:0.01035\u001b[0m\n",
      "\u001b[34m[58]#011train-error:0.010385#011validation-error:0.010375\u001b[0m\n",
      "\u001b[34m[59]#011train-error:0.01037#011validation-error:0.010344\u001b[0m\n",
      "\u001b[34m[60]#011train-error:0.010501#011validation-error:0.010458\u001b[0m\n",
      "\u001b[34m[61]#011train-error:0.010494#011validation-error:0.010428\u001b[0m\n",
      "\u001b[34m[62]#011train-error:0.010329#011validation-error:0.010272\u001b[0m\n",
      "\u001b[34m[63]#011train-error:0.010379#011validation-error:0.010325\u001b[0m\n",
      "\u001b[34m[64]#011train-error:0.010508#011validation-error:0.01045\u001b[0m\n",
      "\u001b[34m[65]#011train-error:0.010531#011validation-error:0.010514\u001b[0m\n",
      "\u001b[34m[66]#011train-error:0.010448#011validation-error:0.010467\u001b[0m\n",
      "\u001b[34m[67]#011train-error:0.010526#011validation-error:0.010514\u001b[0m\n",
      "\u001b[34m[68]#011train-error:0.010574#011validation-error:0.010531\u001b[0m\n",
      "\u001b[34m[69]#011train-error:0.010621#011validation-error:0.010603\u001b[0m\n",
      "\u001b[34m[70]#011train-error:0.010515#011validation-error:0.010483\u001b[0m\n",
      "\u001b[34m[71]#011train-error:0.010424#011validation-error:0.010436\u001b[0m\n",
      "\u001b[34m[72]#011train-error:0.01047#011validation-error:0.010497\u001b[0m\n",
      "\u001b[34m[73]#011train-error:0.010339#011validation-error:0.010369\u001b[0m\n",
      "\u001b[34m[74]#011train-error:0.010369#011validation-error:0.010356\u001b[0m\n",
      "\u001b[34m[75]#011train-error:0.010376#011validation-error:0.010372\u001b[0m\n",
      "\u001b[34m[76]#011train-error:0.010259#011validation-error:0.010272\u001b[0m\n",
      "\u001b[34m[77]#011train-error:0.010162#011validation-error:0.010144\u001b[0m\n",
      "\u001b[34m[78]#011train-error:0.010114#011validation-error:0.010119\u001b[0m\n",
      "\u001b[34m[79]#011train-error:0.010173#011validation-error:0.010203\u001b[0m\n",
      "\u001b[34m[80]#011train-error:0.010158#011validation-error:0.010214\u001b[0m\n",
      "\u001b[34m[81]#011train-error:0.01019#011validation-error:0.010308\u001b[0m\n",
      "\u001b[34m[82]#011train-error:0.01024#011validation-error:0.010283\u001b[0m\n",
      "\u001b[34m[83]#011train-error:0.010313#011validation-error:0.010364\u001b[0m\n",
      "\u001b[34m[84]#011train-error:0.01025#011validation-error:0.010333\u001b[0m\n",
      "\u001b[34m[85]#011train-error:0.01019#011validation-error:0.010281\u001b[0m\n",
      "\u001b[34m[86]#011train-error:0.010151#011validation-error:0.010269\u001b[0m\n",
      "\u001b[34m[87]#011train-error:0.010156#011validation-error:0.010222\u001b[0m\n",
      "\u001b[34m[88]#011train-error:0.010153#011validation-error:0.010214\u001b[0m\n",
      "\u001b[34m[89]#011train-error:0.010152#011validation-error:0.010244\u001b[0m\n",
      "\u001b[34m[90]#011train-error:0.010145#011validation-error:0.010236\u001b[0m\n",
      "\u001b[34m[91]#011train-error:0.010086#011validation-error:0.010169\u001b[0m\n",
      "\u001b[34m[92]#011train-error:0.01014#011validation-error:0.010217\u001b[0m\n",
      "\u001b[34m[93]#011train-error:0.01018#011validation-error:0.010275\u001b[0m\n",
      "\u001b[34m[94]#011train-error:0.010144#011validation-error:0.010228\u001b[0m\n",
      "\u001b[34m[95]#011train-error:0.010103#011validation-error:0.010225\u001b[0m\n",
      "\u001b[34m[96]#011train-error:0.010099#011validation-error:0.010242\u001b[0m\n",
      "\u001b[34m[97]#011train-error:0.009995#011validation-error:0.010078\u001b[0m\n",
      "\u001b[34m[98]#011train-error:0.010012#011validation-error:0.01005\u001b[0m\n",
      "\u001b[34m[99]#011train-error:0.010092#011validation-error:0.010083\u001b[0m\n",
      "\n",
      "2020-07-13 08:37:47 Uploading - Uploading generated training model\n",
      "2020-07-13 08:37:47 Completed - Training job completed\n"
     ]
    },
    {
     "name": "stdout",
     "output_type": "stream",
     "text": [
      "Training seconds: 129\n",
      "Billable seconds: 129\n"
     ]
    }
   ],
   "source": [
    "xgb = sagemaker.estimator.Estimator(container,\n",
    "                                    role, \n",
    "                                    train_instance_count=1, \n",
    "                                    train_instance_type='ml.m4.xlarge',\n",
    "                                    output_path='s3://{}/{}/output/{}'.format(s3_bucket, s3_prefix, exp_prefix),\n",
    "                                    sagemaker_session=sess)\n",
    "\n",
    "xgb.set_hyperparameters(max_depth=4,\n",
    "                        eta=0.3,\n",
    "                        gamma=0,\n",
    "                        min_child_weight=6,   #Minimum sum of instance weight (hessian) needed in a child. If the tree partition step results in a leaf node with the sum of instance weight less than min_child_weight, the building process gives up further partitioning\n",
    "                        colsample_bylevel = 0.8,\n",
    "                        colsample_bytree = 0.8,\n",
    "                        subsample=0.8,\n",
    "                        silent=0,\n",
    "                        scale_pos_weight=scale_pos_weight,\n",
    "                        objective='binary:logistic',\n",
    "                        num_round=100)\n",
    "\n",
    "xgb.fit({'train': s3_input_train, 'validation': s3_input_validation})"
   ]
  },
  {
   "cell_type": "markdown",
   "metadata": {},
   "source": [
    "### Plot Feature Importance"
   ]
  },
  {
   "cell_type": "markdown",
   "metadata": {},
   "source": [
    "#### Download the trained model\n",
    "\n",
    "Download and unpack the trained model for each of the experiments"
   ]
  },
  {
   "cell_type": "code",
   "execution_count": 72,
   "metadata": {},
   "outputs": [],
   "source": [
    "# # For experiment 1, \n",
    "# exp_prefix = 'exp1'\n",
    "\n",
    "# # For experiment 2, \n",
    "# exp_prefix = 'exp2'\n",
    "\n",
    "# For experiment 3, \n",
    "exp_prefix = 'exp3'"
   ]
  },
  {
   "cell_type": "code",
   "execution_count": 73,
   "metadata": {},
   "outputs": [
    {
     "name": "stdout",
     "output_type": "stream",
     "text": [
      "Completed 49.2 KiB/49.2 KiB (190.0 KiB/s) with 1 file(s) remaining\r",
      "download: s3://notebook-ch12.junho.her/Click-Fraud/output/exp2/sagemaker-xgboost-2020-07-13-08-33-25-355/output/model.tar.gz to click_fraud/output/exp2/sagemaker-xgboost-2020-07-13-08-33-25-355/output/model.tar.gz\r\n"
     ]
    }
   ],
   "source": [
    "# Download the trained model from S3 bucket\n",
    "s3_output_prefix = 'output'\n",
    "\n",
    "s3_output_fn = 'model.tar.gz'\n",
    "sm_output_loc = 'click_fraud/output/' \n",
    "\n",
    "#dwnld_op_fn = sm_output_loc + s3_output_fn\n",
    "\n",
    "#Download model from s3 bucket\n",
    "data_loc='s3://{}/{}/{}/{}'.format(s3_bucket, s3_prefix, s3_output_prefix, exp_prefix)\n",
    "\n",
    "!aws s3 cp $data_loc $sm_output_loc$exp_prefix --exclude \"*\" --include \"*.tar.gz\" --recursive"
   ]
  },
  {
   "cell_type": "markdown",
   "metadata": {},
   "source": [
    "#### Unpack trained models"
   ]
  },
  {
   "cell_type": "code",
   "execution_count": 74,
   "metadata": {},
   "outputs": [],
   "source": [
    "# Move model to the appropriate directory\n",
    "!mv $sm_output_loc$exp_prefix/*xgboost*/$s3_output_prefix/$s3_output_fn $sm_output_loc$exp_prefix\n",
    "# Remove nested folders\n",
    "!rm -r $sm_output_loc$exp_prefix/*xgboost*"
   ]
  },
  {
   "cell_type": "code",
   "execution_count": 75,
   "metadata": {},
   "outputs": [
    {
     "name": "stdout",
     "output_type": "stream",
     "text": [
      "delete: s3://notebook-ch12.junho.her/Click-Fraud/output/exp2/sagemaker-xgboost-2020-07-13-08-33-25-355/output/model.tar.gz\n",
      "upload: click_fraud/output/exp2/model.tar.gz to s3://notebook-ch12.junho.her/Click-Fraud/output/exp2/model.tar.gz\n"
     ]
    }
   ],
   "source": [
    "# Upload to s3 bucket, simplifying the directory structure\n",
    "# Clean up the directory structure on s3 bucket\n",
    "!aws s3 rm $data_loc/ --recursive\n",
    "!aws s3 cp $sm_output_loc$exp_prefix/$s3_output_fn $data_loc/$s3_output_fn "
   ]
  },
  {
   "cell_type": "code",
   "execution_count": 76,
   "metadata": {},
   "outputs": [
    {
     "name": "stdout",
     "output_type": "stream",
     "text": [
      "exp1\n"
     ]
    },
    {
     "data": {
      "image/png": "[encoded data removed]",
      "text/plain": [
       "<Figure size 432x432 with 1 Axes>"
      ]
     },
     "metadata": {
      "needs_background": "light"
     },
     "output_type": "display_data"
    },
    {
     "name": "stdout",
     "output_type": "stream",
     "text": [
      "exp2\n"
     ]
    },
    {
     "data": {
      "image/png": "[encoded data removed]",
      "text/plain": [
       "<Figure size 432x432 with 1 Axes>"
      ]
     },
     "metadata": {
      "needs_background": "light"
     },
     "output_type": "display_data"
    },
    {
     "name": "stdout",
     "output_type": "stream",
     "text": [
      "exp3\n"
     ]
    },
    {
     "data": {
      "image/png": "[encoded data removed]",
      "text/plain": [
       "<Figure size 432x432 with 1 Axes>"
      ]
     },
     "metadata": {
      "needs_background": "light"
     },
     "output_type": "display_data"
    }
   ],
   "source": [
    "# Unpack model files\n",
    "exp_lst = ['exp1', 'exp2', 'exp3']\n",
    "\n",
    "for exp in exp_lst:\n",
    "    model_file = os.path.join(sm_output_loc, exp, s3_output_fn)\n",
    "    print(exp)\n",
    "    plot_ftr_imp(model_file)"
   ]
  },
  {
   "cell_type": "markdown",
   "metadata": {},
   "source": [
    "Feature importance switched slightly as more data became available"
   ]
  },
  {
   "cell_type": "markdown",
   "metadata": {},
   "source": [
    "In the order of importance\n",
    "- f8 - number of clicks by ip, day, hr (ip, time, and day)\n",
    "- f13 - app frequency\n",
    "- f12 - number of clicks by ip, device, hr (ip, time, and device)\n",
    "- f3 - channel\n",
    "- f16 - channel freq (frequency with which the channel occurs in the dataset)\n",
    "- f0 - app (the app itself)\n",
    "- f7 - second (time is also important)\n",
    "- f10 - number of clicks by ip, hour and operating system (ip, time and os)"
   ]
  },
  {
   "cell_type": "code",
   "execution_count": 77,
   "metadata": {},
   "outputs": [
    {
     "data": {
      "text/plain": [
       "120000"
      ]
     },
     "execution_count": 77,
     "metadata": {},
     "output_type": "execute_result"
    }
   ],
   "source": [
    "test_data.shape[0]"
   ]
  },
  {
   "cell_type": "markdown",
   "metadata": {},
   "source": [
    "- Deploy each of the trained models for inference\n",
    "- Change data_loc to deploy pertinent model"
   ]
  },
  {
   "cell_type": "code",
   "execution_count": 82,
   "metadata": {},
   "outputs": [
    {
     "name": "stderr",
     "output_type": "stream",
     "text": [
      "WARNING:sagemaker:Parameter image will be renamed to image_uri in SageMaker Python SDK v2.\n"
     ]
    }
   ],
   "source": [
    "# predict whether the click will result in app download\n",
    "# deploy trained model in SageMaker\n",
    "\n",
    "# Use SageMaker Python SDK\n",
    "\n",
    "# Assign data location for each of the experiments and deploy all the 3 models\n",
    "\n",
    "# data_loc = 's3://notebook-ch12.junho.her/Click-Fraud/output/exp1'\n",
    "\n",
    "# data_loc = 's3://notebook-ch12.junho.her/Click-Fraud/output/exp2'\n",
    "\n",
    "data_loc = 's3://notebook-ch12.junho.her/Click-Fraud/output/exp3'\n",
    "\n",
    "model_loc = os.path.join(data_loc, s3_output_fn)\n",
    "xgb_model = Model(model_data=model_loc, image=container, role=role)\n"
   ]
  },
  {
   "cell_type": "code",
   "execution_count": 83,
   "metadata": {},
   "outputs": [
    {
     "name": "stdout",
     "output_type": "stream",
     "text": [
      "-------------------!"
     ]
    }
   ],
   "source": [
    "xgb_model.deploy(initial_instance_count=1,\n",
    "                           instance_type='ml.t2.medium')"
   ]
  },
  {
   "cell_type": "markdown",
   "metadata": {},
   "source": [
    "### Inferences\n",
    "Run inferences across all the three endpoints. Take a note of endpoints and update the endpoint_lst below"
   ]
  },
  {
   "cell_type": "code",
   "execution_count": 84,
   "metadata": {},
   "outputs": [
    {
     "name": "stdout",
     "output_type": "stream",
     "text": [
      "For exp1 auc is 0.8003, accuracy is 0.9888, and confusion matrix is [[19755   209]\n",
      " [   14    22]]\n",
      "For exp2 auc is 0.8265, accuracy is 0.9858, and confusion matrix is [[19691   273]\n",
      " [   12    24]]\n",
      "For exp3 auc is 0.883, accuracy is 0.9878, and confusion matrix is [[19728   236]\n",
      " [    8    28]]\n"
     ]
    }
   ],
   "source": [
    "# Get the deployed endpoint names \n",
    "enpoint_lst = ['sagemaker-xgboost-2020-07-13-08-42-44-168', 'sagemaker-xgboost-2020-07-13-08-54-29-668', \n",
    "               'sagemaker-xgboost-2020-07-13-09-04-47-768']  #exp1, exp2, exp3\n",
    "predictions = {}\n",
    "\n",
    "\n",
    "for ind, endpoint in enumerate(enpoint_lst):\n",
    "    xgb_predictor = sagemaker.predictor.RealTimePredictor(endpoint, sagemaker_session=sess, serializer=csv_serializer, deserializer=None, content_type='text/csv', accept=None)\n",
    "    predictions[exp_lst[ind]] = xgb_predictor.predict(test_data.values[:20000, 1:]).decode('utf-8')\n",
    "    predictions[exp_lst[ind]] = np.fromstring(predictions[exp_lst[ind]][1:], sep=',') #A new 1-D array initialized from text data in a string.\n",
    "#     pd.crosstab(index=test_data.as_matrix()[:10000, 0], columns=np.round(predictions[exp_lst[ind]]), rownames=['actual'], colnames=['predictions'])\n",
    "#     plt.hist(predictions1)\n",
    "#     plt.show()\n",
    "    c_mat = confusion_matrix(test_data.values[:20000, 0], np.round(predictions[exp_lst[ind]])) ## Predicted vs. actual outcome\n",
    "    accuracy = round(accuracy_score(test_data.values[:20000, 0], np.round(predictions[exp_lst[ind]])), 4) ## Overall accuracy\n",
    "    auc = round(roc_auc_score(test_data.values[:20000, 0], np.round(predictions[exp_lst[ind]])), 4)\n",
    "    print('For {} auc is {}, accuracy is {}, and confusion matrix is {}'.format(exp_lst[ind], auc, accuracy, c_mat))\n",
    "    #print('For {} auc is {}, and confusion matrix is {}'.format(exp_lst[ind], auc, c_mat))"
   ]
  },
  {
   "cell_type": "code",
   "execution_count": 85,
   "metadata": {},
   "outputs": [
    {
     "data": {
      "text/plain": [
       "<matplotlib.axes._subplots.AxesSubplot at 0x7faa9b4124a8>"
      ]
     },
     "execution_count": 85,
     "metadata": {},
     "output_type": "execute_result"
    },
    {
     "data": {
      "image/png": "[encoded data removed]",
      "text/plain": [
       "<Figure size 432x288 with 2 Axes>"
      ]
     },
     "metadata": {
      "needs_background": "light"
     },
     "output_type": "display_data"
    }
   ],
   "source": [
    "Index= ['AUC', 'Accuracy']\n",
    "df_model_perf = pd.DataFrame({'Experiment1': [0.8003, 0.9888], 'Experiment2': [0.8265, 0.9858], 'Experiment3': [0.883, 0.9878]}, index=Index)\n",
    "\n",
    "sns.heatmap(df_model_perf, annot=True, fmt='.4g')\n"
   ]
  },
  {
   "cell_type": "markdown",
   "metadata": {},
   "source": [
    "As can be seen above, it is important to establish feedback loop in machine learning life cycle to learn in real time dynamic patterns in data"
   ]
  },
  {
   "cell_type": "code",
   "execution_count": null,
   "metadata": {},
   "outputs": [],
   "source": []
  }
 ],
 "metadata": {
  "kernelspec": {
   "display_name": "conda_mxnet_p36",
   "language": "python",
   "name": "conda_mxnet_p36"
  },
  "language_info": {
   "codemirror_mode": {
    "name": "ipython",
    "version": 3
   },
   "file_extension": ".py",
   "mimetype": "text/x-python",
   "name": "python",
   "nbconvert_exporter": "python",
   "pygments_lexer": "ipython3",
   "version": "3.6.10"
  }
 },
 "nbformat": 4,
 "nbformat_minor": 2
}
